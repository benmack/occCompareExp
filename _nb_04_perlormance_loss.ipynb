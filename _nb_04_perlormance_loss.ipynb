{
 "cells": [
  {
   "cell_type": "markdown",
   "metadata": {},
   "source": [
    "# Model selection and results \n",
    "\n",
    "## Load raw results as data frames"
   ]
  },
  {
   "cell_type": "code",
   "execution_count": 3,
   "metadata": {
    "collapsed": false,
    "scrolled": false
   },
   "outputs": [
    {
     "name": "stderr",
     "output_type": "stream",
     "text": [
      "Loading occCompare\n",
      "Loading occCompareExp\n"
     ]
    }
   ],
   "source": [
    "require(gridExtra)\n",
    "require(grid)\n",
    "require(gtable)\n",
    "require(ggplot2)\n",
    "\n",
    "# detach(\"package:occCompaRe\")\n",
    "# require(occCompaRe)\n",
    "# require(occCompaReExp)\n",
    "\n",
    "devtools::load_all(\"../occCompaRe\")\n",
    "devtools::load_all(\".\")"
   ]
  },
  {
   "cell_type": "markdown",
   "metadata": {},
   "source": [
    "## Define experiments to be evaluated\n",
    "\n",
    "**Note: The raw results of the experiments have already been calculated with ``run_experiments()``.**\n",
    "\n",
    "A proper set up of the experiments is required by defining the classifier comparison settings list (parcc). Furthermore, a function (get_refset()) must be available which creates the reference sets as required by the functions of occCompaRe\n",
    "\n",
    "In doubt how this can be done see .002_setup."
   ]
  },
  {
   "cell_type": "code",
   "execution_count": 4,
   "metadata": {
    "collapsed": false
   },
   "outputs": [],
   "source": [
    "parcc <- set_expOpts(\"revision1\", \"b\")"
   ]
  },
  {
   "cell_type": "markdown",
   "metadata": {},
   "source": [
    "## Load test performance as grouped data frames\n",
    "\n",
    "One data frame is returned per methods. Still, they cannot be combined into one data frame since they differ in columns due to the parameters."
   ]
  },
  {
   "cell_type": "code",
   "execution_count": 5,
   "metadata": {
    "collapsed": false,
    "scrolled": false
   },
   "outputs": [
    {
     "name": "stdout",
     "output_type": "stream",
     "text": [
      "Loading results from D:/Diss/occcomp/results_rdata_agri6clUforest/sum_revision1b/results.RDS \n"
     ]
    }
   ],
   "source": [
    "res <- load_results(c(\".trainUtest\", \".resampling\"), verbosity=1, overwrite=FALSE)"
   ]
  },
  {
   "cell_type": "markdown",
   "metadata": {},
   "source": [
    "## Model selection \n",
    "\n",
    "We now get a final result for different model selection approaches.\n",
    "\n",
    "Note that the maximum achievable accuracy over all models and thresholds is returned automatically (identifier: ``k``).  "
   ]
  },
  {
   "cell_type": "code",
   "execution_count": 7,
   "metadata": {
    "collapsed": false,
    "scrolled": true
   },
   "outputs": [
    {
     "name": "stdout",
     "output_type": "stream",
     "text": [
      "Loading results from: D:/Diss/occcomp/results_rdata_agri6clUforest/sum_revision1b/modsel.RDS \n",
      "         method   ps     ts          ms\n",
      "1          star    k      k         k.k\n",
      "241      binsvm    k      k         k.k\n",
      "481       ocsvm    k      k         k.k\n",
      "721        bsvm    k      k         k.k\n",
      "961      maxent    k      k         k.k\n",
      "1201  maxentDef  DEF      k       DEF.k\n",
      "1441      ocsvm FLEE   FLEE   FLEE.FLEE\n",
      "1681       bsvm FLEE   FLEE   FLEE.FLEE\n",
      "1921     maxent FLEE   FLEE   FLEE.FLEE\n",
      "2161  maxentDef  DEF   FLEE    DEF.FLEE\n",
      "2401       bsvm FLEE    at0    FLEE.at0\n",
      "2641      ocsvm FLEE    at0    FLEE.at0\n",
      "2881      ocsvm FLEE  tenTP  FLEE.tenTP\n",
      "3121       bsvm FLEE  tenTP  FLEE.tenTP\n",
      "3361     maxent FLEE  tenTP  FLEE.tenTP\n",
      "3601  maxentDef  DEF  tenTP   DEF.tenTP\n",
      "3841      ocsvm FLEE mxSSSP FLEE.mxSSSP\n",
      "4081       bsvm FLEE mxSSSP FLEE.mxSSSP\n",
      "4321     maxent FLEE mxSSSP FLEE.mxSSSP\n",
      "4561  maxentDef  DEF mxSSSP  DEF.mxSSSP\n",
      "4801      ocsvm FLEE eqSSSP FLEE.eqSSSP\n",
      "5041       bsvm FLEE eqSSSP FLEE.eqSSSP\n",
      "5281     maxent FLEE eqSSSP FLEE.eqSSSP\n",
      "5521  maxentDef  DEF eqSSSP  DEF.eqSSSP\n",
      "5761      ocsvm  FLI    FLI     FLI.FLI\n",
      "6001       bsvm  FLI    FLI     FLI.FLI\n",
      "6241     maxent  FLI    FLI     FLI.FLI\n",
      "6481  maxentDef  DEF    FLI     DEF.FLI\n",
      "6721       bsvm  FLI    at0     FLI.at0\n",
      "6961      ocsvm  FLI    at0     FLI.at0\n",
      "7201      ocsvm  FLI  tenTP   FLI.tenTP\n",
      "7441       bsvm  FLI  tenTP   FLI.tenTP\n",
      "7681     maxent  FLI  tenTP   FLI.tenTP\n",
      "8161      ocsvm  FLI mxSSSP  FLI.mxSSSP\n",
      "8401       bsvm  FLI mxSSSP  FLI.mxSSSP\n",
      "8641     maxent  FLI mxSSSP  FLI.mxSSSP\n",
      "9121      ocsvm  FLI eqSSSP  FLI.eqSSSP\n",
      "9361       bsvm  FLI eqSSSP  FLI.eqSSSP\n",
      "9601     maxent  FLI eqSSSP  FLI.eqSSSP\n",
      "10081     ocsvm  AUC   FLEE    AUC.FLEE\n",
      "10321      bsvm  AUC   FLEE    AUC.FLEE\n",
      "10561    maxent  AUC   FLEE    AUC.FLEE\n",
      "11041     ocsvm  AUC    FLI     AUC.FLI\n",
      "11281      bsvm  AUC    FLI     AUC.FLI\n",
      "11521    maxent  AUC    FLI     AUC.FLI\n",
      "12001      bsvm  AUC    at0     AUC.at0\n",
      "12241     ocsvm  AUC    at0     AUC.at0\n",
      "12481     ocsvm  AUC  tenTP   AUC.tenTP\n",
      "12721      bsvm  AUC  tenTP   AUC.tenTP\n",
      "12961    maxent  AUC  tenTP   AUC.tenTP\n",
      "13441     ocsvm  AUC mxSSSP  AUC.mxSSSP\n",
      "13681      bsvm  AUC mxSSSP  AUC.mxSSSP\n",
      "13921    maxent  AUC mxSSSP  AUC.mxSSSP\n",
      "14401     ocsvm  AUC eqSSSP  AUC.eqSSSP\n",
      "14641      bsvm  AUC eqSSSP  AUC.eqSSSP\n",
      "14881    maxent  AUC eqSSSP  AUC.eqSSSP\n"
     ]
    }
   ],
   "source": [
    "ms <- matrix(c(\n",
    "  \"FLEE\", \"FLEE\", NA,\n",
    "  \"FLEE\", \"at0\", \"bsvm\",\n",
    "  \"FLEE\", \"at0\", \"ocsvm\",\n",
    "  #\"FLEE\", \"minTP\", NA,\n",
    "  \"FLEE\", \"tenTP\", NA,\n",
    "  \"FLEE\", \"mxSSSP\", NA,\n",
    "  \"FLEE\", \"eqSSSP\", NA,\n",
    "  \"FLI\", \"FLI\", NA,\n",
    "  \"FLI\", \"at0\", \"bsvm\",\n",
    "  \"FLI\", \"at0\", \"ocsvm\",\n",
    "  #\"FLI\", \"minTP\", NA,\n",
    "  \"FLI\", \"tenTP\", NA,\n",
    "  \"FLI\", \"mxSSSP\", NA,\n",
    "  \"FLI\", \"eqSSSP\", NA,\n",
    "  \"AUC\", \"FLEE\", NA, \n",
    "  \"AUC\", \"FLI\", NA, \n",
    "  \"AUC\", \"at0\", \"bsvm\", \n",
    "  \"AUC\", \"at0\", \"ocsvm\", \n",
    "  #\"AUC\", \"minTP\", NA, \n",
    "  \"AUC\", \"tenTP\", NA, \n",
    "  \"AUC\", \"mxSSSP\", NA,\n",
    "  \"AUC\", \"eqSSSP\", NA), ncol=3, byrow=TRUE) %>%\n",
    "  as.data.frame(); colnames(ms) <- c(\"ps\", \"ts\", \"cl\")\n",
    "\n",
    "AC <- model_selection(res, ms=ms, acc_metric=\"mxK\", \n",
    "                      verbose=T, overwrite=FALSE)"
   ]
  },
  {
   "cell_type": "markdown",
   "metadata": {},
   "source": [
    "## Performance Loss"
   ]
  },
  {
   "cell_type": "code",
   "execution_count": 8,
   "metadata": {
    "collapsed": false,
    "scrolled": true
   },
   "outputs": [],
   "source": [
    "PL <- ddp_perfLoss(AC, metric=\"K\", best=\"binsvm.k.k\")"
   ]
  },
  {
   "cell_type": "code",
   "execution_count": 9,
   "metadata": {
    "collapsed": false,
    "scrolled": true
   },
   "outputs": [
    {
     "name": "stdout",
     "output_type": "stream",
     "text": [
      "'data.frame':\t13200 obs. of  12 variables:\n",
      " $ method : chr  \"star\" \"star\" \"star\" \"star\" ...\n",
      " $ seed   : Factor w/ 10 levels \"1\",\"2\",\"3\",\"4\",..: 1 1 1 1 1 1 1 1 1 1 ...\n",
      " $ fset   : Factor w/ 3 levels \"re3b\",\"tsx\",\"re3bUtsx\": 1 1 1 1 1 1 1 1 2 2 ...\n",
      " $ nP     : Factor w/ 1 level \"50\": 1 1 1 1 1 1 1 1 1 1 ...\n",
      " $ nU     : Factor w/ 1 level \"10000\": 1 1 1 1 1 1 1 1 1 1 ...\n",
      " $ idP    : Factor w/ 8 levels \"1\",\"2\",\"3\",\"4\",..: 1 2 3 4 5 6 7 8 1 2 ...\n",
      " $ mxK.mxK: num  0.931 0.949 0.625 0.971 0.673 ...\n",
      " $ K      : num  0.931 0.949 0.625 0.971 0.673 ...\n",
      " $ ps     : chr  \"k\" \"k\" \"k\" \"k\" ...\n",
      " $ ts     : chr  \"k\" \"k\" \"k\" \"k\" ...\n",
      " $ ms     : Factor w/ 35 levels \"k.k\",\"k.at0\",..: 1 1 1 1 1 1 1 1 1 1 ...\n",
      " $ PL     : num  0 -0.0185 -0.0271 0 -0.0141 ...\n"
     ]
    }
   ],
   "source": [
    "str(PL)"
   ]
  },
  {
   "cell_type": "markdown",
   "metadata": {},
   "source": [
    "## Plot & table values for the manuscript"
   ]
  },
  {
   "cell_type": "markdown",
   "metadata": {},
   "source": [
    "### Performance loss"
   ]
  },
  {
   "cell_type": "code",
   "execution_count": 10,
   "metadata": {
    "collapsed": false
   },
   "outputs": [
    {
     "name": "stdout",
     "output_type": "stream",
     "text": [
      " Named chr [1:5] \"Z\" \"A\" \"B\" \"C\" \"D\"\n",
      " - attr(*, \"names\")= chr [1:5] \"binsvm\" \"bsvm\" \"maxent\" \"maxentDef\" ...\n"
     ]
    }
   ],
   "source": [
    "fVals4plot <- get_fVals4plot()\n",
    "fVals4plot$method[] <- LETTERS[c(26, 1:4)]\n",
    "str(fVals4plot$method)"
   ]
  },
  {
   "cell_type": "code",
   "execution_count": 11,
   "metadata": {
    "collapsed": false,
    "scrolled": false
   },
   "outputs": [
    {
     "name": "stderr",
     "output_type": "stream",
     "text": [
      "Loading occCompare\n",
      "Loading occCompareExp\n"
     ]
    },
    {
     "name": "stdout",
     "output_type": "stream",
     "text": [
      "'method': Levels required for plot not found in data:\n",
      "  binsvm\n"
     ]
    },
    {
     "name": "stderr",
     "output_type": "stream",
     "text": [
      "The following `from` values were not present in `x`: binsvm\n"
     ]
    },
    {
     "data": {
      "image/png": "[encoded data removed]",
      "text/plain": [
       "plot without title"
      ]
     },
     "metadata": {
      "image/svg+xml": {
       "isolated": true
      }
     },
     "output_type": "display_data"
    }
   ],
   "source": [
    "devtools::load_all(\"../occCompaRe\")\n",
    "devtools::load_all(\".\")\n",
    "\n",
    "options(repr.plot.width=6, repr.plot.height=3)\n",
    "ggp <- ggp_perfloss(PL,\n",
    "                    ignore_methods=\"star\",\n",
    "                    factorVals4plot=fVals4plot,\n",
    "                    cols4plot=get_cols4plot(),\n",
    "                    box_lwd=.2, \n",
    "                    box_outlier_size=.2,\n",
    "                    axis.text.size=8,\n",
    "                    strip.text.size=8,\n",
    "                    rotate_axis.title.y=TRUE,\n",
    "                    panel.margin.y=0,\n",
    "                    panel.margin.x=.2\n",
    ")\n",
    "g <- ggplotGrob(ggp)\n",
    "g$heights[[3]] = unit(.4,\"cm\")\n",
    "g$heights[[4]] = unit(.4,\"cm\")\n",
    "grid.draw(g)"
   ]
  },
  {
   "cell_type": "code",
   "execution_count": 86,
   "metadata": {
    "collapsed": false
   },
   "outputs": [
    {
     "data": {
      "text/html": [
       "<strong>pdf:</strong> 2"
      ],
      "text/latex": [
       "\\textbf{pdf:} 2"
      ],
      "text/markdown": [
       "**pdf:** 2"
      ],
      "text/plain": [
       "pdf \n",
       "  2 "
      ]
     },
     "metadata": {},
     "output_type": "display_data"
    }
   ],
   "source": [
    "pdf(\"../occCompareManu/03_revision_a/plots/A_PL_accK.pdf\",\n",
    "    width=5.5, height=3)\n",
    "grid.draw(g)\n",
    "dev.off()"
   ]
  },
  {
   "cell_type": "code",
   "execution_count": 12,
   "metadata": {
    "collapsed": false
   },
   "outputs": [
    {
     "data": {
      "text/html": [
       "<table>\n",
       "<thead><tr><th scope=col>method</th><th scope=col>ps</th><th scope=col>ts</th><th scope=col>mean</th><th scope=col>sd</th></tr></thead>\n",
       "<tbody>\n",
       "\t<tr><td>bsvm     </td><td>AUC      </td><td>eqSSSP   </td><td> 0.141   </td><td>0.098    </td></tr>\n",
       "\t<tr><td>bsvm     </td><td>FLEE     </td><td>eqSSSP   </td><td> 0.124   </td><td>0.075    </td></tr>\n",
       "\t<tr><td>bsvm     </td><td>FLI      </td><td>eqSSSP   </td><td> 0.134   </td><td>0.092    </td></tr>\n",
       "\t<tr><td>bsvm     </td><td>k        </td><td>k        </td><td> 0.018   </td><td>0.030    </td></tr>\n",
       "\t<tr><td>maxent   </td><td>AUC      </td><td>eqSSSP   </td><td> 0.158   </td><td>0.097    </td></tr>\n",
       "\t<tr><td>maxent   </td><td>FLEE     </td><td>eqSSSP   </td><td> 0.149   </td><td>0.106    </td></tr>\n",
       "\t<tr><td>maxent   </td><td>FLI      </td><td>eqSSSP   </td><td> 0.149   </td><td>0.106    </td></tr>\n",
       "\t<tr><td>maxent   </td><td>k        </td><td>k        </td><td> 0.058   </td><td>0.050    </td></tr>\n",
       "\t<tr><td>maxentDef</td><td>DEF      </td><td>k        </td><td> 0.080   </td><td>0.065    </td></tr>\n",
       "\t<tr><td>ocsvm    </td><td>AUC      </td><td>FLEE     </td><td> 0.315   </td><td>0.203    </td></tr>\n",
       "\t<tr><td>ocsvm    </td><td>FLEE     </td><td>eqSSSP   </td><td> 0.275   </td><td>0.241    </td></tr>\n",
       "\t<tr><td>ocsvm    </td><td>FLI      </td><td>eqSSSP   </td><td> 0.281   </td><td>0.247    </td></tr>\n",
       "\t<tr><td>ocsvm    </td><td>k        </td><td>k        </td><td> 0.115   </td><td>0.087    </td></tr>\n",
       "\t<tr><td>star     </td><td>k        </td><td>k        </td><td>-0.004   </td><td>0.009    </td></tr>\n",
       "</tbody>\n",
       "</table>\n"
      ],
      "text/latex": [
       "\\begin{tabular}{r|lllll}\n",
       " method & ps & ts & mean & sd\\\\\n",
       "\\hline\n",
       "\t bsvm      & AUC       & eqSSSP    &  0.141    & 0.098    \\\\\n",
       "\t bsvm      & FLEE      & eqSSSP    &  0.124    & 0.075    \\\\\n",
       "\t bsvm      & FLI       & eqSSSP    &  0.134    & 0.092    \\\\\n",
       "\t bsvm      & k         & k         &  0.018    & 0.030    \\\\\n",
       "\t maxent    & AUC       & eqSSSP    &  0.158    & 0.097    \\\\\n",
       "\t maxent    & FLEE      & eqSSSP    &  0.149    & 0.106    \\\\\n",
       "\t maxent    & FLI       & eqSSSP    &  0.149    & 0.106    \\\\\n",
       "\t maxent    & k         & k         &  0.058    & 0.050    \\\\\n",
       "\t maxentDef & DEF       & k         &  0.080    & 0.065    \\\\\n",
       "\t ocsvm     & AUC       & FLEE      &  0.315    & 0.203    \\\\\n",
       "\t ocsvm     & FLEE      & eqSSSP    &  0.275    & 0.241    \\\\\n",
       "\t ocsvm     & FLI       & eqSSSP    &  0.281    & 0.247    \\\\\n",
       "\t ocsvm     & k         & k         &  0.115    & 0.087    \\\\\n",
       "\t star      & k         & k         & -0.004    & 0.009    \\\\\n",
       "\\end{tabular}\n"
      ],
      "text/plain": [
       "   method    ps   ts     mean   sd   \n",
       "1  bsvm      AUC  eqSSSP  0.141 0.098\n",
       "2  bsvm      FLEE eqSSSP  0.124 0.075\n",
       "3  bsvm      FLI  eqSSSP  0.134 0.092\n",
       "4  bsvm      k    k       0.018 0.030\n",
       "5  maxent    AUC  eqSSSP  0.158 0.097\n",
       "6  maxent    FLEE eqSSSP  0.149 0.106\n",
       "7  maxent    FLI  eqSSSP  0.149 0.106\n",
       "8  maxent    k    k       0.058 0.050\n",
       "9  maxentDef DEF  k       0.080 0.065\n",
       "10 ocsvm     AUC  FLEE    0.315 0.203\n",
       "11 ocsvm     FLEE eqSSSP  0.275 0.241\n",
       "12 ocsvm     FLI  eqSSSP  0.281 0.247\n",
       "13 ocsvm     k    k       0.115 0.087\n",
       "14 star      k    k      -0.004 0.009"
      ]
     },
     "metadata": {},
     "output_type": "display_data"
    }
   ],
   "source": [
    "PL_summary <- group_by(PL, method, ps, ts) %>%\n",
    "      summarise(mean=round(mean(PL), 3),\n",
    "                sd=round(sd(PL), 3)) %>%\n",
    "      filter(mean == min(mean)) %>%\n",
    "      arrange(method, ps)\n",
    "\n",
    "PL_summary"
   ]
  },
  {
   "cell_type": "code",
   "execution_count": 16,
   "metadata": {
    "collapsed": false
   },
   "outputs": [
    {
     "data": {
      "text/html": [
       "<table>\n",
       "<thead><tr><th scope=col>method</th><th scope=col>ps</th><th scope=col>ts</th><th scope=col>mean</th><th scope=col>sd</th></tr></thead>\n",
       "<tbody>\n",
       "\t<tr><td>maxentDef</td><td>DEF      </td><td>k        </td><td>0.080    </td><td>0.065    </td></tr>\n",
       "\t<tr><td>maxentDef</td><td>DEF      </td><td>eqSSSP   </td><td>0.144    </td><td>0.081    </td></tr>\n",
       "</tbody>\n",
       "</table>\n"
      ],
      "text/latex": [
       "\\begin{tabular}{r|lllll}\n",
       " method & ps & ts & mean & sd\\\\\n",
       "\\hline\n",
       "\t maxentDef & DEF       & k         & 0.080     & 0.065    \\\\\n",
       "\t maxentDef & DEF       & eqSSSP    & 0.144     & 0.081    \\\\\n",
       "\\end{tabular}\n"
      ],
      "text/plain": [
       "  method    ps  ts     mean  sd   \n",
       "1 maxentDef DEF k      0.080 0.065\n",
       "2 maxentDef DEF eqSSSP 0.144 0.081"
      ]
     },
     "metadata": {},
     "output_type": "display_data"
    }
   ],
   "source": [
    "PL_summary <- group_by(PL, method, ps, ts) %>%\n",
    "      filter(method==\"maxentDef\") %>%  \n",
    "      summarise(mean=round(mean(PL), 3),\n",
    "                sd=round(sd(PL), 3)) %>%\n",
    "      arrange(method, mean) %>% slice(1:2)\n",
    "\n",
    "PL_summary"
   ]
  },
  {
   "cell_type": "code",
   "execution_count": null,
   "metadata": {
    "collapsed": true
   },
   "outputs": [],
   "source": [
    "quantile(filter(PL, ms==\"FLEE.eqSSSP\" & method==\"bsvm\")$PL, c(0,.25,.5,.75, 1))"
   ]
  }
 ],
 "metadata": {
  "kernelspec": {
   "display_name": "R",
   "language": "R",
   "name": "ir"
  },
  "language_info": {
   "codemirror_mode": "r",
   "file_extension": ".r",
   "mimetype": "text/x-r-source",
   "name": "R",
   "pygments_lexer": "r",
   "version": "3.2.4"
  }
 },
 "nbformat": 4,
 "nbformat_minor": 0
}
