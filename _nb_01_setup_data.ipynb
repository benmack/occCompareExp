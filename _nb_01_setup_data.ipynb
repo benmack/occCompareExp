{
 "cells": [
  {
   "cell_type": "markdown",
   "metadata": {},
   "source": [
    "# Setup data"
   ]
  },
  {
   "cell_type": "code",
   "execution_count": 8,
   "metadata": {
    "collapsed": false,
    "scrolled": false
   },
   "outputs": [
    {
     "name": "stderr",
     "output_type": "stream",
     "text": [
      "Loading occCompare\n",
      "Loading occCompareExp\n"
     ]
    },
    {
     "data": {
      "text/html": [
       "<ol class=list-inline>\n",
       "\t<li>'addForest'</li>\n",
       "\t<li>'dPrep_agri_cult1_to_L1_class_mapping'</li>\n",
       "\t<li>'dPrep_get_ids_orig'</li>\n",
       "\t<li>'dPrep_get_newUold_ids'</li>\n",
       "\t<li>'dPrep_pixel_poly_stats'</li>\n",
       "\t<li>'dPrep_reclassify'</li>\n",
       "\t<li>'dPrep_scale_minmax'</li>\n",
       "\t<li>'q'</li>\n",
       "\t<li>'quit'</li>\n",
       "</ol>\n"
      ],
      "text/latex": [
       "\\begin{enumerate*}\n",
       "\\item 'addForest'\n",
       "\\item 'dPrep\\_agri\\_cult1\\_to\\_L1\\_class\\_mapping'\n",
       "\\item 'dPrep\\_get\\_ids\\_orig'\n",
       "\\item 'dPrep\\_get\\_newUold\\_ids'\n",
       "\\item 'dPrep\\_pixel\\_poly\\_stats'\n",
       "\\item 'dPrep\\_reclassify'\n",
       "\\item 'dPrep\\_scale\\_minmax'\n",
       "\\item 'q'\n",
       "\\item 'quit'\n",
       "\\end{enumerate*}\n"
      ],
      "text/markdown": [
       "1. 'addForest'\n",
       "2. 'dPrep_agri_cult1_to_L1_class_mapping'\n",
       "3. 'dPrep_get_ids_orig'\n",
       "4. 'dPrep_get_newUold_ids'\n",
       "5. 'dPrep_pixel_poly_stats'\n",
       "6. 'dPrep_reclassify'\n",
       "7. 'dPrep_scale_minmax'\n",
       "8. 'q'\n",
       "9. 'quit'\n",
       "\n",
       "\n"
      ],
      "text/plain": [
       "[1] \"addForest\"                           \n",
       "[2] \"dPrep_agri_cult1_to_L1_class_mapping\"\n",
       "[3] \"dPrep_get_ids_orig\"                  \n",
       "[4] \"dPrep_get_newUold_ids\"               \n",
       "[5] \"dPrep_pixel_poly_stats\"              \n",
       "[6] \"dPrep_reclassify\"                    \n",
       "[7] \"dPrep_scale_minmax\"                  \n",
       "[8] \"q\"                                   \n",
       "[9] \"quit\"                                "
      ]
     },
     "metadata": {},
     "output_type": "display_data"
    }
   ],
   "source": [
    "devtools:::load_all(\"../occcompaRe\")\n",
    "devtools:::load_all(\".\")\n",
    "\n",
    "source(\"R_data_preparation//helper_dataPreparation.R\")\n",
    "ls()"
   ]
  },
  {
   "cell_type": "markdown",
   "metadata": {},
   "source": [
    "## Reference Data\n",
    "\n",
    "Load the original reference data (this also creates the file \"Kulturen_Ids_nPix_mainTypes.txt\"):"
   ]
  },
  {
   "cell_type": "code",
   "execution_count": 9,
   "metadata": {
    "collapsed": false
   },
   "outputs": [],
   "source": [
    "addForest=TRUE\n",
    "orig <- dPrep_get_ids_orig(dir=\"../data/raster\", buf=20, rmUn=FALSE, addForest=addForest)"
   ]
  },
  {
   "cell_type": "markdown",
   "metadata": {},
   "source": [
    "Create a mapping data frame (lut_reclass) between the original IDs and the main crop types that can be used for reclassification:"
   ]
  },
  {
   "cell_type": "code",
   "execution_count": 10,
   "metadata": {
    "collapsed": false
   },
   "outputs": [
    {
     "data": {
      "text/html": [
       "<table>\n",
       "<thead><tr><th scope=col>X</th><th scope=col>Nutzungen</th><th scope=col>Code</th><th scope=col>type</th><th scope=col>nPix</th></tr></thead>\n",
       "<tbody>\n",
       "\t<tr><td> 1                        </td><td>Sonstiges                 </td><td> 3                        </td><td>others                    </td><td>     0                    </td></tr>\n",
       "\t<tr><td> 2                        </td><td>Koernermais               </td><td>10                        </td><td>corn                      </td><td>  2374                    </td></tr>\n",
       "\t<tr><td> 3                        </td><td>Winterfutterweizen        </td><td>11                        </td><td>wcereals                  </td><td> 58769                    </td></tr>\n",
       "\t<tr><td> 4                        </td><td>Winterfuttergerste        </td><td>12                        </td><td>wcereals                  </td><td> 42988                    </td></tr>\n",
       "\t<tr><td> 5                        </td><td>Winterfutterroggen        </td><td>13                        </td><td>wcereals                  </td><td>  7489                    </td></tr>\n",
       "\t<tr><td> 6                        </td><td>Sommerhafer               </td><td>14                        </td><td>scereals                  </td><td>  9860                    </td></tr>\n",
       "\t<tr><td> 7                        </td><td>Wintertriticale           </td><td>15                        </td><td>wcereals                  </td><td> 39713                    </td></tr>\n",
       "\t<tr><td> 8                        </td><td>sonstigesGetreide         </td><td>16                        </td><td>others                    </td><td>   683                    </td></tr>\n",
       "\t<tr><td> 9                        </td><td>Silomais                  </td><td>17                        </td><td>corn                      </td><td>145260                    </td></tr>\n",
       "\t<tr><td>10                        </td><td>Wintermenggetreide        </td><td>18                        </td><td>wcereals                  </td><td>  1383                    </td></tr>\n",
       "\t<tr><td>11                        </td><td>WinterrapsRruebsen        </td><td>21                        </td><td>oilseeds                  </td><td> 38974                    </td></tr>\n",
       "\t<tr><td>12                        </td><td>sonstigeOelsaaten         </td><td>22                        </td><td>oilseeds                  </td><td>   179                    </td></tr>\n",
       "\t<tr><td>13                        </td><td>SommerrapsRruebsen        </td><td>23                        </td><td>oilseeds                  </td><td>   663                    </td></tr>\n",
       "\t<tr><td>14                        </td><td>Winterbrotweizen          </td><td>24                        </td><td>wcereals                  </td><td> 50210                    </td></tr>\n",
       "\t<tr><td>15                        </td><td>Winterbraugerste          </td><td>25                        </td><td>wcereals                  </td><td>     0                    </td></tr>\n",
       "\t<tr><td>16                        </td><td>Sommerbraugerste          </td><td>26                        </td><td>scereals                  </td><td>   737                    </td></tr>\n",
       "\t<tr><td>17                        </td><td>Winterbrotroggen          </td><td>27                        </td><td>wcereals                  </td><td>   928                    </td></tr>\n",
       "\t<tr><td>18                        </td><td>Erbsen                    </td><td>31                        </td><td>others                    </td><td>  4910                    </td></tr>\n",
       "\t<tr><td>19                        </td><td>Ackerbohnen               </td><td>32                        </td><td>others                    </td><td>   526                    </td></tr>\n",
       "\t<tr><td>20                        </td><td>Sommertriticale           </td><td>33                        </td><td>scereals                  </td><td>  3007                    </td></tr>\n",
       "\t<tr><td>21                        </td><td>Sommerweizen              </td><td>34                        </td><td>scereals                  </td><td>  5903                    </td></tr>\n",
       "\t<tr><td>22                        </td><td>SpelzDinkel               </td><td>35                        </td><td>others                    </td><td>  5612                    </td></tr>\n",
       "\t<tr><td>23                        </td><td>Sommerfuttergerste        </td><td>36                        </td><td>scereals                  </td><td> 28345                    </td></tr>\n",
       "\t<tr><td>24                        </td><td>Sommerroggen              </td><td>37                        </td><td>scereals                  </td><td>     8                    </td></tr>\n",
       "\t<tr><td>25                        </td><td>Sommermenggetreide        </td><td>38                        </td><td>scereals                  </td><td>   841                    </td></tr>\n",
       "\t<tr><td>26                        </td><td>Faserhanf                 </td><td>42                        </td><td>others                    </td><td>     0                    </td></tr>\n",
       "\t<tr><td>27                        </td><td>sonstigeHuelsenfruechte   </td><td>43                        </td><td>others                    </td><td>   204                    </td></tr>\n",
       "\t<tr><td>28                        </td><td>KleingaertenUndHausgaerten</td><td>48                        </td><td>others                    </td><td>     0                    </td></tr>\n",
       "\t<tr><td>29                        </td><td>LangjaehrigeStilllegung   </td><td>57                        </td><td>others                    </td><td>    41                    </td></tr>\n",
       "\t<tr><td>30                        </td><td>Rollrasen                 </td><td>60                        </td><td>others                    </td><td>     0                    </td></tr>\n",
       "\t<tr><td>...</td><td>...</td><td>...</td><td>...</td><td>...</td></tr>\n",
       "\t<tr><td>45                                                </td><td>Hutungsflaechen                                   </td><td> 78                                               </td><td>others                                            </td><td>   0                                              </td></tr>\n",
       "\t<tr><td>46                                                </td><td>Sonstiges                                         </td><td> 81                                               </td><td>others                                            </td><td>   0                                              </td></tr>\n",
       "\t<tr><td>47                                                </td><td>Sonstiges                                         </td><td> 82                                               </td><td>others                                            </td><td>   0                                              </td></tr>\n",
       "\t<tr><td>48                                                </td><td>Baumschulen                                       </td><td> 83                                               </td><td>others                                            </td><td>   3                                              </td></tr>\n",
       "\t<tr><td>49                                                </td><td>Weihnachtsbaumkulturen                            </td><td> 84                                               </td><td>others                                            </td><td>   0                                              </td></tr>\n",
       "\t<tr><td>50                                                </td><td>GemueseUndErdbeereGaertnerischeGemueseanbau       </td><td> 85                                               </td><td>others                                            </td><td> 200                                              </td></tr>\n",
       "\t<tr><td>51                                                </td><td>GemueseUndErdbeerenUnterGlas                      </td><td> 86                                               </td><td>others                                            </td><td>   0                                              </td></tr>\n",
       "\t<tr><td>52                                                </td><td>BlumenUndZierpflanzenImFreilandanbau              </td><td> 88                                               </td><td>others                                            </td><td>   0                                              </td></tr>\n",
       "\t<tr><td>53                                                </td><td>Forstbaumschulen                                  </td><td> 90                                               </td><td>others                                            </td><td>   0                                              </td></tr>\n",
       "\t<tr><td>54                                                </td><td>BlumenUndZierpflanzenUnterGlas                    </td><td> 91                                               </td><td>others                                            </td><td>   0                                              </td></tr>\n",
       "\t<tr><td>55                                                </td><td>Pilze                                             </td><td> 92                                               </td><td>others                                            </td><td>   0                                              </td></tr>\n",
       "\t<tr><td>56                                                </td><td>Wiese/Weiden                                      </td><td> 93                                               </td><td>pgrass                                            </td><td> 169                                              </td></tr>\n",
       "\t<tr><td>57                                                </td><td>HeckenStraeucher                                  </td><td> 94                                               </td><td>others                                            </td><td>   0                                              </td></tr>\n",
       "\t<tr><td>58                                                </td><td>Lohhecken                                         </td><td> 95                                               </td><td>others                                            </td><td>   0                                              </td></tr>\n",
       "\t<tr><td>59                                                </td><td>Wald                                              </td><td> 96                                               </td><td>others                                            </td><td>   0                                              </td></tr>\n",
       "\t<tr><td>60                                                </td><td>Oelhanf                                           </td><td>100                                               </td><td>others                                            </td><td>   0                                              </td></tr>\n",
       "\t<tr><td>61                                                </td><td>BrachlandOedland                                  </td><td>101                                               </td><td>others                                            </td><td>   0                                              </td></tr>\n",
       "\t<tr><td>62                                                </td><td>SonstigeFlaechen                                  </td><td>102                                               </td><td>others                                            </td><td>   0                                              </td></tr>\n",
       "\t<tr><td>63                                                </td><td>Kurzumtriebwaelder                                </td><td>103                                               </td><td>others                                            </td><td>   0                                              </td></tr>\n",
       "\t<tr><td>64                                                </td><td>Winterhafer                                       </td><td>114                                               </td><td>wcereals                                          </td><td>   0                                              </td></tr>\n",
       "\t<tr><td>65                                                </td><td>MischanbauSilomaisUndSonnenblumen                 </td><td>175                                               </td><td>others                                            </td><td>1519                                              </td></tr>\n",
       "\t<tr><td>66                                                </td><td>GemueseUndErdbeereLandwirtschaftlicherGemueseanbau</td><td>185                                               </td><td>others                                            </td><td> 426                                              </td></tr>\n",
       "\t<tr><td>67                                                </td><td>GetreideAlsGanzpflanzensilage                     </td><td>202                                               </td><td>others                                            </td><td>1251                                              </td></tr>\n",
       "\t<tr><td>68                                                </td><td>Miscanthus                                        </td><td>204                                               </td><td>others                                            </td><td>  86                                              </td></tr>\n",
       "\t<tr><td>69                                                </td><td>Sudangras                                         </td><td>205                                               </td><td>others                                            </td><td> 242                                              </td></tr>\n",
       "\t<tr><td>70                                                </td><td>Unbekannt                                         </td><td> 87                                               </td><td>unlabeled                                         </td><td>7123                                              </td></tr>\n",
       "\t<tr><td>71                                                </td><td>Unbekannt                                         </td><td>203                                               </td><td>unlabeled                                         </td><td> 134                                              </td></tr>\n",
       "\t<tr><td>72                                                </td><td>Unbekannt                                         </td><td>206                                               </td><td>unlabeled                                         </td><td> 864                                              </td></tr>\n",
       "\t<tr><td>73                                                </td><td>Laubwald                                          </td><td>241                                               </td><td>bforest                                           </td><td>7721                                              </td></tr>\n",
       "\t<tr><td>74                                                </td><td>Nadelwald                                         </td><td>242                                               </td><td>cforest                                           </td><td>7750                                              </td></tr>\n",
       "</tbody>\n",
       "</table>\n"
      ],
      "text/latex": [
       "\\begin{tabular}{r|lllll}\n",
       " X & Nutzungen & Code & type & nPix\\\\\n",
       "\\hline\n",
       "\t  1                         & Sonstiges                  &  3                         & others                     &      0                    \\\\\n",
       "\t  2                         & Koernermais                & 10                         & corn                       &   2374                    \\\\\n",
       "\t  3                         & Winterfutterweizen         & 11                         & wcereals                   &  58769                    \\\\\n",
       "\t  4                         & Winterfuttergerste         & 12                         & wcereals                   &  42988                    \\\\\n",
       "\t  5                         & Winterfutterroggen         & 13                         & wcereals                   &   7489                    \\\\\n",
       "\t  6                         & Sommerhafer                & 14                         & scereals                   &   9860                    \\\\\n",
       "\t  7                         & Wintertriticale            & 15                         & wcereals                   &  39713                    \\\\\n",
       "\t  8                         & sonstigesGetreide          & 16                         & others                     &    683                    \\\\\n",
       "\t  9                         & Silomais                   & 17                         & corn                       & 145260                    \\\\\n",
       "\t 10                         & Wintermenggetreide         & 18                         & wcereals                   &   1383                    \\\\\n",
       "\t 11                         & WinterrapsRruebsen         & 21                         & oilseeds                   &  38974                    \\\\\n",
       "\t 12                         & sonstigeOelsaaten          & 22                         & oilseeds                   &    179                    \\\\\n",
       "\t 13                         & SommerrapsRruebsen         & 23                         & oilseeds                   &    663                    \\\\\n",
       "\t 14                         & Winterbrotweizen           & 24                         & wcereals                   &  50210                    \\\\\n",
       "\t 15                         & Winterbraugerste           & 25                         & wcereals                   &      0                    \\\\\n",
       "\t 16                         & Sommerbraugerste           & 26                         & scereals                   &    737                    \\\\\n",
       "\t 17                         & Winterbrotroggen           & 27                         & wcereals                   &    928                    \\\\\n",
       "\t 18                         & Erbsen                     & 31                         & others                     &   4910                    \\\\\n",
       "\t 19                         & Ackerbohnen                & 32                         & others                     &    526                    \\\\\n",
       "\t 20                         & Sommertriticale            & 33                         & scereals                   &   3007                    \\\\\n",
       "\t 21                         & Sommerweizen               & 34                         & scereals                   &   5903                    \\\\\n",
       "\t 22                         & SpelzDinkel                & 35                         & others                     &   5612                    \\\\\n",
       "\t 23                         & Sommerfuttergerste         & 36                         & scereals                   &  28345                    \\\\\n",
       "\t 24                         & Sommerroggen               & 37                         & scereals                   &      8                    \\\\\n",
       "\t 25                         & Sommermenggetreide         & 38                         & scereals                   &    841                    \\\\\n",
       "\t 26                         & Faserhanf                  & 42                         & others                     &      0                    \\\\\n",
       "\t 27                         & sonstigeHuelsenfruechte    & 43                         & others                     &    204                    \\\\\n",
       "\t 28                         & KleingaertenUndHausgaerten & 48                         & others                     &      0                    \\\\\n",
       "\t 29                         & LangjaehrigeStilllegung    & 57                         & others                     &     41                    \\\\\n",
       "\t 30                         & Rollrasen                  & 60                         & others                     &      0                    \\\\\n",
       "\t ... & ... & ... & ... & ...\\\\\n",
       "\t 45                                                 & Hutungsflaechen                                    &  78                                                & others                                             &    0                                              \\\\\n",
       "\t 46                                                 & Sonstiges                                          &  81                                                & others                                             &    0                                              \\\\\n",
       "\t 47                                                 & Sonstiges                                          &  82                                                & others                                             &    0                                              \\\\\n",
       "\t 48                                                 & Baumschulen                                        &  83                                                & others                                             &    3                                              \\\\\n",
       "\t 49                                                 & Weihnachtsbaumkulturen                             &  84                                                & others                                             &    0                                              \\\\\n",
       "\t 50                                                 & GemueseUndErdbeereGaertnerischeGemueseanbau        &  85                                                & others                                             &  200                                              \\\\\n",
       "\t 51                                                 & GemueseUndErdbeerenUnterGlas                       &  86                                                & others                                             &    0                                              \\\\\n",
       "\t 52                                                 & BlumenUndZierpflanzenImFreilandanbau               &  88                                                & others                                             &    0                                              \\\\\n",
       "\t 53                                                 & Forstbaumschulen                                   &  90                                                & others                                             &    0                                              \\\\\n",
       "\t 54                                                 & BlumenUndZierpflanzenUnterGlas                     &  91                                                & others                                             &    0                                              \\\\\n",
       "\t 55                                                 & Pilze                                              &  92                                                & others                                             &    0                                              \\\\\n",
       "\t 56                                                 & Wiese/Weiden                                       &  93                                                & pgrass                                             &  169                                              \\\\\n",
       "\t 57                                                 & HeckenStraeucher                                   &  94                                                & others                                             &    0                                              \\\\\n",
       "\t 58                                                 & Lohhecken                                          &  95                                                & others                                             &    0                                              \\\\\n",
       "\t 59                                                 & Wald                                               &  96                                                & others                                             &    0                                              \\\\\n",
       "\t 60                                                 & Oelhanf                                            & 100                                                & others                                             &    0                                              \\\\\n",
       "\t 61                                                 & BrachlandOedland                                   & 101                                                & others                                             &    0                                              \\\\\n",
       "\t 62                                                 & SonstigeFlaechen                                   & 102                                                & others                                             &    0                                              \\\\\n",
       "\t 63                                                 & Kurzumtriebwaelder                                 & 103                                                & others                                             &    0                                              \\\\\n",
       "\t 64                                                 & Winterhafer                                        & 114                                                & wcereals                                           &    0                                              \\\\\n",
       "\t 65                                                 & MischanbauSilomaisUndSonnenblumen                  & 175                                                & others                                             & 1519                                              \\\\\n",
       "\t 66                                                 & GemueseUndErdbeereLandwirtschaftlicherGemueseanbau & 185                                                & others                                             &  426                                              \\\\\n",
       "\t 67                                                 & GetreideAlsGanzpflanzensilage                      & 202                                                & others                                             & 1251                                              \\\\\n",
       "\t 68                                                 & Miscanthus                                         & 204                                                & others                                             &   86                                              \\\\\n",
       "\t 69                                                 & Sudangras                                          & 205                                                & others                                             &  242                                              \\\\\n",
       "\t 70                                                 & Unbekannt                                          &  87                                                & unlabeled                                          & 7123                                              \\\\\n",
       "\t 71                                                 & Unbekannt                                          & 203                                                & unlabeled                                          &  134                                              \\\\\n",
       "\t 72                                                 & Unbekannt                                          & 206                                                & unlabeled                                          &  864                                              \\\\\n",
       "\t 73                                                 & Laubwald                                           & 241                                                & bforest                                            & 7721                                              \\\\\n",
       "\t 74                                                 & Nadelwald                                          & 242                                                & cforest                                            & 7750                                              \\\\\n",
       "\\end{tabular}\n"
      ],
      "text/plain": [
       "    X   Nutzungen                                          Code type     \n",
       "1    1  Sonstiges                                           3   others   \n",
       "2    2  Koernermais                                        10   corn     \n",
       "3    3  Winterfutterweizen                                 11   wcereals \n",
       "4    4  Winterfuttergerste                                 12   wcereals \n",
       "5    5  Winterfutterroggen                                 13   wcereals \n",
       "6    6  Sommerhafer                                        14   scereals \n",
       "7    7  Wintertriticale                                    15   wcereals \n",
       "8    8  sonstigesGetreide                                  16   others   \n",
       "9    9  Silomais                                           17   corn     \n",
       "10  10  Wintermenggetreide                                 18   wcereals \n",
       "11  11  WinterrapsRruebsen                                 21   oilseeds \n",
       "12  12  sonstigeOelsaaten                                  22   oilseeds \n",
       "13  13  SommerrapsRruebsen                                 23   oilseeds \n",
       "14  14  Winterbrotweizen                                   24   wcereals \n",
       "15  15  Winterbraugerste                                   25   wcereals \n",
       "16  16  Sommerbraugerste                                   26   scereals \n",
       "17  17  Winterbrotroggen                                   27   wcereals \n",
       "18  18  Erbsen                                             31   others   \n",
       "19  19  Ackerbohnen                                        32   others   \n",
       "20  20  Sommertriticale                                    33   scereals \n",
       "21  21  Sommerweizen                                       34   scereals \n",
       "22  22  SpelzDinkel                                        35   others   \n",
       "23  23  Sommerfuttergerste                                 36   scereals \n",
       "24  24  Sommerroggen                                       37   scereals \n",
       "25  25  Sommermenggetreide                                 38   scereals \n",
       "26  26  Faserhanf                                          42   others   \n",
       "27  27  sonstigeHuelsenfruechte                            43   others   \n",
       "28  28  KleingaertenUndHausgaerten                         48   others   \n",
       "29  29  LangjaehrigeStilllegung                            57   others   \n",
       "30  30  Rollrasen                                          60   others   \n",
       "... ... ...                                                ...  ...      \n",
       "45  45  Hutungsflaechen                                     78  others   \n",
       "46  46  Sonstiges                                           81  others   \n",
       "47  47  Sonstiges                                           82  others   \n",
       "48  48  Baumschulen                                         83  others   \n",
       "49  49  Weihnachtsbaumkulturen                              84  others   \n",
       "50  50  GemueseUndErdbeereGaertnerischeGemueseanbau         85  others   \n",
       "51  51  GemueseUndErdbeerenUnterGlas                        86  others   \n",
       "52  52  BlumenUndZierpflanzenImFreilandanbau                88  others   \n",
       "53  53  Forstbaumschulen                                    90  others   \n",
       "54  54  BlumenUndZierpflanzenUnterGlas                      91  others   \n",
       "55  55  Pilze                                               92  others   \n",
       "56  56  Wiese/Weiden                                        93  pgrass   \n",
       "57  57  HeckenStraeucher                                    94  others   \n",
       "58  58  Lohhecken                                           95  others   \n",
       "59  59  Wald                                                96  others   \n",
       "60  60  Oelhanf                                            100  others   \n",
       "61  61  BrachlandOedland                                   101  others   \n",
       "62  62  SonstigeFlaechen                                   102  others   \n",
       "63  63  Kurzumtriebwaelder                                 103  others   \n",
       "64  64  Winterhafer                                        114  wcereals \n",
       "65  65  MischanbauSilomaisUndSonnenblumen                  175  others   \n",
       "66  66  GemueseUndErdbeereLandwirtschaftlicherGemueseanbau 185  others   \n",
       "67  67  GetreideAlsGanzpflanzensilage                      202  others   \n",
       "68  68  Miscanthus                                         204  others   \n",
       "69  69  Sudangras                                          205  others   \n",
       "70  70  Unbekannt                                           87  unlabeled\n",
       "71  71  Unbekannt                                          203  unlabeled\n",
       "72  72  Unbekannt                                          206  unlabeled\n",
       "73  73  Laubwald                                           241  bforest  \n",
       "74  74  Nadelwald                                          242  cforest  \n",
       "    nPix  \n",
       "1        0\n",
       "2     2374\n",
       "3    58769\n",
       "4    42988\n",
       "5     7489\n",
       "6     9860\n",
       "7    39713\n",
       "8      683\n",
       "9   145260\n",
       "10    1383\n",
       "11   38974\n",
       "12     179\n",
       "13     663\n",
       "14   50210\n",
       "15       0\n",
       "16     737\n",
       "17     928\n",
       "18    4910\n",
       "19     526\n",
       "20    3007\n",
       "21    5903\n",
       "22    5612\n",
       "23   28345\n",
       "24       8\n",
       "25     841\n",
       "26       0\n",
       "27     204\n",
       "28       0\n",
       "29      41\n",
       "30       0\n",
       "... ...   \n",
       "45     0  \n",
       "46     0  \n",
       "47     0  \n",
       "48     3  \n",
       "49     0  \n",
       "50   200  \n",
       "51     0  \n",
       "52     0  \n",
       "53     0  \n",
       "54     0  \n",
       "55     0  \n",
       "56   169  \n",
       "57     0  \n",
       "58     0  \n",
       "59     0  \n",
       "60     0  \n",
       "61     0  \n",
       "62     0  \n",
       "63     0  \n",
       "64     0  \n",
       "65  1519  \n",
       "66   426  \n",
       "67  1251  \n",
       "68    86  \n",
       "69   242  \n",
       "70  7123  \n",
       "71   134  \n",
       "72   864  \n",
       "73  7721  \n",
       "74  7750  "
      ]
     },
     "metadata": {},
     "output_type": "display_data"
    }
   ],
   "source": [
    "lut_origUtypes <- read.csv(\"data/raster/Kulturen_Ids_nPix_mainTypes.txt\")\n",
    "lut_origUtypes"
   ]
  },
  {
   "cell_type": "code",
   "execution_count": 11,
   "metadata": {
    "collapsed": false
   },
   "outputs": [
    {
     "data": {
      "text/html": [
       "<table>\n",
       "<thead><tr><th scope=col>id</th><th scope=col>name</th><th scope=col>oldId</th></tr></thead>\n",
       "<tbody>\n",
       "\t<tr><td>0        </td><td>unlabeled</td><td>NA       </td></tr>\n",
       "\t<tr><td>1        </td><td>corn     </td><td>NA       </td></tr>\n",
       "\t<tr><td>2        </td><td>oilseeds </td><td>NA       </td></tr>\n",
       "\t<tr><td>3        </td><td>pgrass   </td><td>NA       </td></tr>\n",
       "\t<tr><td>4        </td><td>root     </td><td>NA       </td></tr>\n",
       "\t<tr><td>5        </td><td>scereals </td><td>NA       </td></tr>\n",
       "\t<tr><td>6        </td><td>wcereals </td><td>NA       </td></tr>\n",
       "\t<tr><td>7        </td><td>bforest  </td><td>NA       </td></tr>\n",
       "\t<tr><td>8        </td><td>cforest  </td><td>NA       </td></tr>\n",
       "\t<tr><td>9        </td><td>others   </td><td>NA       </td></tr>\n",
       "</tbody>\n",
       "</table>\n"
      ],
      "text/latex": [
       "\\begin{tabular}{r|lll}\n",
       " id & name & oldId\\\\\n",
       "\\hline\n",
       "\t 0         & unlabeled & NA       \\\\\n",
       "\t 1         & corn      & NA       \\\\\n",
       "\t 2         & oilseeds  & NA       \\\\\n",
       "\t 3         & pgrass    & NA       \\\\\n",
       "\t 4         & root      & NA       \\\\\n",
       "\t 5         & scereals  & NA       \\\\\n",
       "\t 6         & wcereals  & NA       \\\\\n",
       "\t 7         & bforest   & NA       \\\\\n",
       "\t 8         & cforest   & NA       \\\\\n",
       "\t 9         & others    & NA       \\\\\n",
       "\\end{tabular}\n"
      ],
      "text/plain": [
       "   id name      oldId\n",
       "1  0  unlabeled NA   \n",
       "2  1  corn      NA   \n",
       "3  2  oilseeds  NA   \n",
       "4  3  pgrass    NA   \n",
       "5  4  root      NA   \n",
       "6  5  scereals  NA   \n",
       "7  6  wcereals  NA   \n",
       "8  7  bforest   NA   \n",
       "9  8  cforest   NA   \n",
       "10 9  others    NA   "
      ]
     },
     "metadata": {},
     "output_type": "display_data"
    }
   ],
   "source": [
    "lut_origUtypes <- lut_origUtypes[lut_origUtypes$nPix!=0, ]\n",
    "# IDs/Labels\n",
    "classnames <- c(\"unlabeled\", \"corn\", \"oilseeds\", \"pgrass\", \n",
    "                \"root\", \"scereals\", \"wcereals\", \"bforest\", \"cforest\", \"others\")\n",
    "lut_reclass <- data.frame(id=0:(length(classnames)-1), \n",
    "                  name=classnames, oldId=NA)\n",
    "lut_reclass"
   ]
  },
  {
   "cell_type": "code",
   "execution_count": 12,
   "metadata": {
    "collapsed": false
   },
   "outputs": [
    {
     "data": {
      "text/html": [
       "<table>\n",
       "<thead><tr><th scope=col>id</th><th scope=col>name</th><th scope=col>oldId</th></tr></thead>\n",
       "<tbody>\n",
       "\t<tr><td>0                                                                     </td><td>unlabeled                                                             </td><td>87,203,206                                                            </td></tr>\n",
       "\t<tr><td>1                                                                     </td><td>corn                                                                  </td><td>10,17                                                                 </td></tr>\n",
       "\t<tr><td>2                                                                     </td><td>oilseeds                                                              </td><td>21,22,23                                                              </td></tr>\n",
       "\t<tr><td>3                                                                     </td><td>pgrass                                                                </td><td>75,77,93                                                              </td></tr>\n",
       "\t<tr><td>4                                                                     </td><td>root                                                                  </td><td>61,67                                                                 </td></tr>\n",
       "\t<tr><td>5                                                                     </td><td>scereals                                                              </td><td>14,26,33,34,36,37,38                                                  </td></tr>\n",
       "\t<tr><td>6                                                                     </td><td>wcereals                                                              </td><td>11,12,13,15,18,24,27                                                  </td></tr>\n",
       "\t<tr><td>7                                                                     </td><td>bforest                                                               </td><td>241                                                                   </td></tr>\n",
       "\t<tr><td>8                                                                     </td><td>cforest                                                               </td><td>242                                                                   </td></tr>\n",
       "\t<tr><td>9                                                                     </td><td>others                                                                </td><td>16,31,32,35,43,57,62,63,64,70,71,72,73,74,76,83,85,175,185,202,204,205</td></tr>\n",
       "</tbody>\n",
       "</table>\n"
      ],
      "text/latex": [
       "\\begin{tabular}{r|lll}\n",
       " id & name & oldId\\\\\n",
       "\\hline\n",
       "\t 0                                                                      & unlabeled                                                              & 87,203,206                                                            \\\\\n",
       "\t 1                                                                      & corn                                                                   & 10,17                                                                 \\\\\n",
       "\t 2                                                                      & oilseeds                                                               & 21,22,23                                                              \\\\\n",
       "\t 3                                                                      & pgrass                                                                 & 75,77,93                                                              \\\\\n",
       "\t 4                                                                      & root                                                                   & 61,67                                                                 \\\\\n",
       "\t 5                                                                      & scereals                                                               & 14,26,33,34,36,37,38                                                  \\\\\n",
       "\t 6                                                                      & wcereals                                                               & 11,12,13,15,18,24,27                                                  \\\\\n",
       "\t 7                                                                      & bforest                                                                & 241                                                                   \\\\\n",
       "\t 8                                                                      & cforest                                                                & 242                                                                   \\\\\n",
       "\t 9                                                                      & others                                                                 & 16,31,32,35,43,57,62,63,64,70,71,72,73,74,76,83,85,175,185,202,204,205\\\\\n",
       "\\end{tabular}\n"
      ],
      "text/plain": [
       "   id name     \n",
       "1  0  unlabeled\n",
       "2  1  corn     \n",
       "3  2  oilseeds \n",
       "4  3  pgrass   \n",
       "5  4  root     \n",
       "6  5  scereals \n",
       "7  6  wcereals \n",
       "8  7  bforest  \n",
       "9  8  cforest  \n",
       "10 9  others   \n",
       "   oldId                                                                 \n",
       "1  87,203,206                                                            \n",
       "2  10,17                                                                 \n",
       "3  21,22,23                                                              \n",
       "4  75,77,93                                                              \n",
       "5  61,67                                                                 \n",
       "6  14,26,33,34,36,37,38                                                  \n",
       "7  11,12,13,15,18,24,27                                                  \n",
       "8  241                                                                   \n",
       "9  242                                                                   \n",
       "10 16,31,32,35,43,57,62,63,64,70,71,72,73,74,76,83,85,175,185,202,204,205"
      ]
     },
     "metadata": {},
     "output_type": "display_data"
    }
   ],
   "source": [
    "for (i in 1:nrow(lut_reclass))\n",
    "  lut_reclass[i, \"oldId\"] <- paste(sort(\n",
    "    lut_origUtypes$Code[lut_origUtypes$type==lut_reclass$name[i]]),\n",
    "    collapse=\",\")\n",
    "lut_reclass"
   ]
  },
  {
   "cell_type": "markdown",
   "metadata": {},
   "source": [
    "Reclassify the original ids to the new classes:"
   ]
  },
  {
   "cell_type": "code",
   "execution_count": 13,
   "metadata": {
    "collapsed": true
   },
   "outputs": [],
   "source": [
    "ref <- list(ids=dPrep_reclassify(orig$ids, lut=lut_reclass))\n",
    "ref$cells <- orig$cells\n",
    "ref$freq <- table(ref$ids)\n",
    "ref$lut <- lut_reclass[, 1:2]"
   ]
  },
  {
   "cell_type": "markdown",
   "metadata": {},
   "source": [
    "Get the field information:"
   ]
  },
  {
   "cell_type": "code",
   "execution_count": 14,
   "metadata": {
    "collapsed": false
   },
   "outputs": [
    {
     "data": {
      "text/html": [
       "<table>\n",
       "<thead><tr><th scope=col>name</th><th scope=col>id</th><th scope=col>nSmpls</th><th scope=col>nFlds</th></tr></thead>\n",
       "<tbody>\n",
       "\t<tr><td>unlabeled</td><td>0        </td><td>4762912  </td><td>   1     </td></tr>\n",
       "\t<tr><td>corn     </td><td>1        </td><td> 147634  </td><td>1336     </td></tr>\n",
       "\t<tr><td>oilseeds </td><td>2        </td><td>  39816  </td><td> 315     </td></tr>\n",
       "\t<tr><td>pgrass   </td><td>3        </td><td> 469643  </td><td>5685     </td></tr>\n",
       "\t<tr><td>root     </td><td>4        </td><td>   8722  </td><td>  87     </td></tr>\n",
       "\t<tr><td>scereals </td><td>5        </td><td>  48701  </td><td> 535     </td></tr>\n",
       "\t<tr><td>wcereals </td><td>6        </td><td> 201480  </td><td>1934     </td></tr>\n",
       "\t<tr><td>bforest  </td><td>7        </td><td>   7721  </td><td>   1     </td></tr>\n",
       "\t<tr><td>cforest  </td><td>8        </td><td>   7750  </td><td>   1     </td></tr>\n",
       "\t<tr><td>others   </td><td>9        </td><td> 172989  </td><td>2028     </td></tr>\n",
       "</tbody>\n",
       "</table>\n"
      ],
      "text/latex": [
       "\\begin{tabular}{r|llll}\n",
       " name & id & nSmpls & nFlds\\\\\n",
       "\\hline\n",
       "\t unlabeled & 0         & 4762912   &    1     \\\\\n",
       "\t corn      & 1         &  147634   & 1336     \\\\\n",
       "\t oilseeds  & 2         &   39816   &  315     \\\\\n",
       "\t pgrass    & 3         &  469643   & 5685     \\\\\n",
       "\t root      & 4         &    8722   &   87     \\\\\n",
       "\t scereals  & 5         &   48701   &  535     \\\\\n",
       "\t wcereals  & 6         &  201480   & 1934     \\\\\n",
       "\t bforest   & 7         &    7721   &    1     \\\\\n",
       "\t cforest   & 8         &    7750   &    1     \\\\\n",
       "\t others    & 9         &  172989   & 2028     \\\\\n",
       "\\end{tabular}\n"
      ],
      "text/plain": [
       "   name      id nSmpls  nFlds\n",
       "1  unlabeled 0  4762912    1 \n",
       "2  corn      1   147634 1336 \n",
       "3  oilseeds  2    39816  315 \n",
       "4  pgrass    3   469643 5685 \n",
       "5  root      4     8722   87 \n",
       "6  scereals  5    48701  535 \n",
       "7  wcereals  6   201480 1934 \n",
       "8  bforest   7     7721    1 \n",
       "9  cforest   8     7750    1 \n",
       "10 others    9   172989 2028 "
      ]
     },
     "metadata": {},
     "output_type": "display_data"
    }
   ],
   "source": [
    "# Format data as required for experiments\n",
    "ref$fids <- raster(\"data/raster/agri_fid\")[ref$cells]\n",
    "ref$fids[ref$ids==0] <- 0\n",
    "fidsize <- as.numeric(table(ref$fids))\n",
    "filen <- lapply(ref$lut$id, function(i) {\n",
    "  tbl <- table(ref$fids[ref$ids==i])\n",
    "  list(ufids=as.numeric(names(tbl)),\n",
    "       len=as.numeric(tbl))})\n",
    "class_stats <- data.frame(name=ref$lut$name, \n",
    "                          id=ref$lut$id,\n",
    "                          nSmpls=sapply(filen, function(x) sum(x$len)), \n",
    "                          nFlds=sapply(filen, function(x) length(x$len)))\n",
    "class_stats"
   ]
  },
  {
   "cell_type": "markdown",
   "metadata": {},
   "source": [
    "## Image Data\n",
    "\n",
    "We used four RapidEye (RE) acquisitions and TerraSAR-X (TSX) acquisitions from 2011."
   ]
  },
  {
   "cell_type": "code",
   "execution_count": 15,
   "metadata": {
    "collapsed": false
   },
   "outputs": [
    {
     "data": {
      "text/html": [
       "<table>\n",
       "<thead><tr><th></th><th scope=col>used</th><th scope=col>(Mb)</th><th scope=col>gc trigger</th><th scope=col>(Mb)</th><th scope=col>max used</th><th scope=col>(Mb)</th></tr></thead>\n",
       "<tbody>\n",
       "\t<tr><th scope=row>Ncells</th><td> 1038658 </td><td> 55.5    </td><td>  3654118</td><td> 195.2   </td><td>  7250569</td><td> 387.3   </td></tr>\n",
       "\t<tr><th scope=row>Vcells</th><td>82323614 </td><td>628.1    </td><td>375783573</td><td>2867.1   </td><td>469326403</td><td>3580.7   </td></tr>\n",
       "</tbody>\n",
       "</table>\n"
      ],
      "text/latex": [
       "\\begin{tabular}{r|llllll}\n",
       "  & used & (Mb) & gc trigger & (Mb) & max used & (Mb)\\\\\n",
       "\\hline\n",
       "\tNcells &  1038658  &  55.5     &   3654118 &  195.2    &   7250569 &  387.3   \\\\\n",
       "\tVcells & 82323614  & 628.1     & 375783573 & 2867.1    & 469326403 & 3580.7   \\\\\n",
       "\\end{tabular}\n"
      ],
      "text/markdown": [
       "1. 1038658\n",
       "2. 82323614\n",
       "3. 55.5\n",
       "4. 628.1\n",
       "5. 3654118\n",
       "6. 375783573\n",
       "7. 195.2\n",
       "8. 2867.1\n",
       "9. 7250569\n",
       "10. 469326403\n",
       "11. 387.3\n",
       "12. 3580.7\n",
       "\n",
       "\n"
      ],
      "text/plain": [
       "       used     (Mb)  gc trigger (Mb)   max used  (Mb)  \n",
       "Ncells  1038658  55.5   3654118   195.2   7250569  387.3\n",
       "Vcells 82323614 628.1 375783573  2867.1 469326403 3580.7"
      ]
     },
     "metadata": {},
     "output_type": "display_data"
    }
   ],
   "source": [
    "re20 <- brick(\"data/raster/re_20bands\")[]\n",
    "re20 <- re20[ref$cells, ]; gc(verbose=FALSE)"
   ]
  },
  {
   "cell_type": "code",
   "execution_count": 16,
   "metadata": {
    "collapsed": false
   },
   "outputs": [
    {
     "data": {
      "text/html": [
       "<table>\n",
       "<thead><tr><th></th><th scope=col>used</th><th scope=col>(Mb)</th><th scope=col>gc trigger</th><th scope=col>(Mb)</th><th scope=col>max used</th><th scope=col>(Mb)</th></tr></thead>\n",
       "<tbody>\n",
       "\t<tr><th scope=row>Ncells</th><td>  1038947</td><td>  55.5   </td><td>  3654118</td><td> 195.2   </td><td>  7250569</td><td> 387.3   </td></tr>\n",
       "\t<tr><th scope=row>Vcells</th><td>152732196</td><td>1165.3   </td><td>433043475</td><td>3303.9   </td><td>489421122</td><td>3734.0   </td></tr>\n",
       "</tbody>\n",
       "</table>\n"
      ],
      "text/latex": [
       "\\begin{tabular}{r|llllll}\n",
       "  & used & (Mb) & gc trigger & (Mb) & max used & (Mb)\\\\\n",
       "\\hline\n",
       "\tNcells &   1038947 &   55.5    &   3654118 &  195.2    &   7250569 &  387.3   \\\\\n",
       "\tVcells & 152732196 & 1165.3    & 433043475 & 3303.9    & 489421122 & 3734.0   \\\\\n",
       "\\end{tabular}\n"
      ],
      "text/markdown": [
       "1. 1038947\n",
       "2. 152732196\n",
       "3. 55.5\n",
       "4. 1165.3\n",
       "5. 3654118\n",
       "6. 433043475\n",
       "7. 195.2\n",
       "8. 3303.9\n",
       "9. 7250569\n",
       "10. 489421122\n",
       "11. 387.3\n",
       "12. 3734\n",
       "\n",
       "\n"
      ],
      "text/plain": [
       "       used      (Mb)   gc trigger (Mb)   max used  (Mb)  \n",
       "Ncells   1038947   55.5   3654118   195.2   7250569  387.3\n",
       "Vcells 152732196 1165.3 433043475  3303.9 489421122 3734.0"
      ]
     },
     "metadata": {},
     "output_type": "display_data"
    }
   ],
   "source": [
    "tsx <- brick(\"data/raster/tsx139\")[]\n",
    "tsx <- tsx[ref$cells, ]; gc(verbose=FALSE)"
   ]
  },
  {
   "cell_type": "code",
   "execution_count": 17,
   "metadata": {
    "collapsed": false
   },
   "outputs": [
    {
     "data": {
      "text/html": [
       "<table>\n",
       "<thead><tr><th></th><th scope=col>used</th><th scope=col>(Mb)</th><th scope=col>gc trigger</th><th scope=col>(Mb)</th><th scope=col>max used</th><th scope=col>(Mb)</th></tr></thead>\n",
       "<tbody>\n",
       "\t<tr><th scope=row>Ncells</th><td>  1038929</td><td>  55.5   </td><td>  3654118</td><td> 195.2   </td><td>  7250569</td><td> 387.3   </td></tr>\n",
       "\t<tr><th scope=row>Vcells</th><td>340487867</td><td>2597.8   </td><td>519732170</td><td>3965.3   </td><td>489421122</td><td>3734.0   </td></tr>\n",
       "</tbody>\n",
       "</table>\n"
      ],
      "text/latex": [
       "\\begin{tabular}{r|llllll}\n",
       "  & used & (Mb) & gc trigger & (Mb) & max used & (Mb)\\\\\n",
       "\\hline\n",
       "\tNcells &   1038929 &   55.5    &   3654118 &  195.2    &   7250569 &  387.3   \\\\\n",
       "\tVcells & 340487867 & 2597.8    & 519732170 & 3965.3    & 489421122 & 3734.0   \\\\\n",
       "\\end{tabular}\n"
      ],
      "text/markdown": [
       "1. 1038929\n",
       "2. 340487867\n",
       "3. 55.5\n",
       "4. 2597.8\n",
       "5. 3654118\n",
       "6. 519732170\n",
       "7. 195.2\n",
       "8. 3965.3\n",
       "9. 7250569\n",
       "10. 489421122\n",
       "11. 387.3\n",
       "12. 3734\n",
       "\n",
       "\n"
      ],
      "text/plain": [
       "       used      (Mb)   gc trigger (Mb)   max used  (Mb)  \n",
       "Ncells   1038929   55.5   3654118   195.2   7250569  387.3\n",
       "Vcells 340487867 2597.8 519732170  3965.3 489421122 3734.0"
      ]
     },
     "metadata": {},
     "output_type": "display_data"
    }
   ],
   "source": [
    "re20Utsx <- cbind(re20, tsx); gc(verbose=FALSE)"
   ]
  },
  {
   "cell_type": "code",
   "execution_count": 18,
   "metadata": {
    "collapsed": false
   },
   "outputs": [
    {
     "data": {
      "text/html": [
       "<ol class=list-inline>\n",
       "\t<li>'re_062_0303_B'</li>\n",
       "\t<li>'re_062_0303_G'</li>\n",
       "\t<li>'re_062_0303_R'</li>\n",
       "\t<li>'re_062_0303_RE'</li>\n",
       "\t<li>'re_062_0303_IR'</li>\n",
       "\t<li>'re_092_0402_B'</li>\n",
       "\t<li>'re_092_0402_G'</li>\n",
       "\t<li>'re_092_0402_R'</li>\n",
       "\t<li>'re_092_0402_RE'</li>\n",
       "\t<li>'re_092_0402_IR'</li>\n",
       "\t<li>'re_178_0627_B'</li>\n",
       "\t<li>'re_178_0627_G'</li>\n",
       "\t<li>'re_178_0627_R'</li>\n",
       "\t<li>'re_178_0627_RE'</li>\n",
       "\t<li>'re_178_0627_IR'</li>\n",
       "\t<li>'re_268_0925_B'</li>\n",
       "\t<li>'re_268_0925_G'</li>\n",
       "\t<li>'re_268_0925_R'</li>\n",
       "\t<li>'re_268_0925_RE'</li>\n",
       "\t<li>'re_268_0925_IR'</li>\n",
       "\t<li>'tsx139_133_0513_VH'</li>\n",
       "\t<li>'tsx139_166_0615_VH'</li>\n",
       "\t<li>'tsx139_199_0718_VH'</li>\n",
       "\t<li>'tsx139_232_0820_VH'</li>\n",
       "\t<li>'tsx139_254_0911_VH'</li>\n",
       "\t<li>'tsx139_265_0922_VH'</li>\n",
       "\t<li>'tsx139_133_0513_VV'</li>\n",
       "\t<li>'tsx139_166_0615_VV'</li>\n",
       "\t<li>'tsx139_199_0718_VV'</li>\n",
       "\t<li>'tsx139_232_0820_VV'</li>\n",
       "\t<li>'tsx139_254_0911_VV'</li>\n",
       "\t<li>'tsx139_265_0922_VV'</li>\n",
       "</ol>\n"
      ],
      "text/latex": [
       "\\begin{enumerate*}\n",
       "\\item 're\\_062\\_0303\\_B'\n",
       "\\item 're\\_062\\_0303\\_G'\n",
       "\\item 're\\_062\\_0303\\_R'\n",
       "\\item 're\\_062\\_0303\\_RE'\n",
       "\\item 're\\_062\\_0303\\_IR'\n",
       "\\item 're\\_092\\_0402\\_B'\n",
       "\\item 're\\_092\\_0402\\_G'\n",
       "\\item 're\\_092\\_0402\\_R'\n",
       "\\item 're\\_092\\_0402\\_RE'\n",
       "\\item 're\\_092\\_0402\\_IR'\n",
       "\\item 're\\_178\\_0627\\_B'\n",
       "\\item 're\\_178\\_0627\\_G'\n",
       "\\item 're\\_178\\_0627\\_R'\n",
       "\\item 're\\_178\\_0627\\_RE'\n",
       "\\item 're\\_178\\_0627\\_IR'\n",
       "\\item 're\\_268\\_0925\\_B'\n",
       "\\item 're\\_268\\_0925\\_G'\n",
       "\\item 're\\_268\\_0925\\_R'\n",
       "\\item 're\\_268\\_0925\\_RE'\n",
       "\\item 're\\_268\\_0925\\_IR'\n",
       "\\item 'tsx139\\_133\\_0513\\_VH'\n",
       "\\item 'tsx139\\_166\\_0615\\_VH'\n",
       "\\item 'tsx139\\_199\\_0718\\_VH'\n",
       "\\item 'tsx139\\_232\\_0820\\_VH'\n",
       "\\item 'tsx139\\_254\\_0911\\_VH'\n",
       "\\item 'tsx139\\_265\\_0922\\_VH'\n",
       "\\item 'tsx139\\_133\\_0513\\_VV'\n",
       "\\item 'tsx139\\_166\\_0615\\_VV'\n",
       "\\item 'tsx139\\_199\\_0718\\_VV'\n",
       "\\item 'tsx139\\_232\\_0820\\_VV'\n",
       "\\item 'tsx139\\_254\\_0911\\_VV'\n",
       "\\item 'tsx139\\_265\\_0922\\_VV'\n",
       "\\end{enumerate*}\n"
      ],
      "text/markdown": [
       "1. 're_062_0303_B'\n",
       "2. 're_062_0303_G'\n",
       "3. 're_062_0303_R'\n",
       "4. 're_062_0303_RE'\n",
       "5. 're_062_0303_IR'\n",
       "6. 're_092_0402_B'\n",
       "7. 're_092_0402_G'\n",
       "8. 're_092_0402_R'\n",
       "9. 're_092_0402_RE'\n",
       "10. 're_092_0402_IR'\n",
       "11. 're_178_0627_B'\n",
       "12. 're_178_0627_G'\n",
       "13. 're_178_0627_R'\n",
       "14. 're_178_0627_RE'\n",
       "15. 're_178_0627_IR'\n",
       "16. 're_268_0925_B'\n",
       "17. 're_268_0925_G'\n",
       "18. 're_268_0925_R'\n",
       "19. 're_268_0925_RE'\n",
       "20. 're_268_0925_IR'\n",
       "21. 'tsx139_133_0513_VH'\n",
       "22. 'tsx139_166_0615_VH'\n",
       "23. 'tsx139_199_0718_VH'\n",
       "24. 'tsx139_232_0820_VH'\n",
       "25. 'tsx139_254_0911_VH'\n",
       "26. 'tsx139_265_0922_VH'\n",
       "27. 'tsx139_133_0513_VV'\n",
       "28. 'tsx139_166_0615_VV'\n",
       "29. 'tsx139_199_0718_VV'\n",
       "30. 'tsx139_232_0820_VV'\n",
       "31. 'tsx139_254_0911_VV'\n",
       "32. 'tsx139_265_0922_VV'\n",
       "\n",
       "\n"
      ],
      "text/plain": [
       " [1] \"re_062_0303_B\"      \"re_062_0303_G\"      \"re_062_0303_R\"     \n",
       " [4] \"re_062_0303_RE\"     \"re_062_0303_IR\"     \"re_092_0402_B\"     \n",
       " [7] \"re_092_0402_G\"      \"re_092_0402_R\"      \"re_092_0402_RE\"    \n",
       "[10] \"re_092_0402_IR\"     \"re_178_0627_B\"      \"re_178_0627_G\"     \n",
       "[13] \"re_178_0627_R\"      \"re_178_0627_RE\"     \"re_178_0627_IR\"    \n",
       "[16] \"re_268_0925_B\"      \"re_268_0925_G\"      \"re_268_0925_R\"     \n",
       "[19] \"re_268_0925_RE\"     \"re_268_0925_IR\"     \"tsx139_133_0513_VH\"\n",
       "[22] \"tsx139_166_0615_VH\" \"tsx139_199_0718_VH\" \"tsx139_232_0820_VH\"\n",
       "[25] \"tsx139_254_0911_VH\" \"tsx139_265_0922_VH\" \"tsx139_133_0513_VV\"\n",
       "[28] \"tsx139_166_0615_VV\" \"tsx139_199_0718_VV\" \"tsx139_232_0820_VV\"\n",
       "[31] \"tsx139_254_0911_VV\" \"tsx139_265_0922_VV\""
      ]
     },
     "metadata": {},
     "output_type": "display_data"
    }
   ],
   "source": [
    "colnames(re20Utsx)"
   ]
  },
  {
   "cell_type": "markdown",
   "metadata": {},
   "source": [
    "Check/fin seeds such that min. size of samples per class >= 1500 samples:"
   ]
  },
  {
   "cell_type": "code",
   "execution_count": 19,
   "metadata": {
    "collapsed": false
   },
   "outputs": [
    {
     "name": "stdout",
     "output_type": "stream",
     "text": [
      "Adding seeds: "
     ]
    }
   ],
   "source": [
    "# ----------------------------------------------------------\n",
    "# TRAIN, TEST DATA SPLIT SEEDS\n",
    "nMin <- 1500\n",
    "pTr <- 0.5\n",
    "seeds <- numeric(100)\n",
    "seed <- 0\n",
    "cat(\"Adding seeds: \")"
   ]
  },
  {
   "cell_type": "code",
   "execution_count": null,
   "metadata": {
    "collapsed": true
   },
   "outputs": [],
   "source": [
    "while (any(seeds==0)) {\n",
    "  seed <- seed+1\n",
    "  tbl <- table(ref$ids[get_tr_fids_idx(ref$ids, ref$fids, pTr, seed=seed)])\n",
    "  if (min(tbl)>=nMin) {\n",
    "    cat(seed, \".\")\n",
    "    seeds[which(seeds==0)[1]] <- seed\n",
    "  }\n",
    "}"
   ]
  },
  {
   "cell_type": "markdown",
   "metadata": {},
   "source": [
    "Save all the data required for running the experiments:"
   ]
  },
  {
   "cell_type": "code",
   "execution_count": 29,
   "metadata": {
    "collapsed": false
   },
   "outputs": [
    {
     "name": "stderr",
     "output_type": "stream",
     "text": [
      "Warning message:\n",
      "In dir.create(outdir): 'data\\rdata_agri6clUforest' existiert bereits"
     ]
    }
   ],
   "source": [
    "outdir <- \"data/rdata_agri6cl_tryedToReprod\"\n",
    "if (addForest)\n",
    "    outdir <- paste0(outdir, \"Uforest\")\n",
    "dir.create(outdir)\n",
    "# ----------------------------------------------------------\n",
    "# Save\n",
    "saveRDS(ref$cells, paste0(outdir, \"/cells.rds\"))\n",
    "saveRDS(ref$fids, paste0(outdir, \"/fids.rds\"))\n",
    "saveRDS(fidsize, paste0(outdir, \"/fidsize.rds\"))\n",
    "saveRDS(filen, paste0(outdir, \"/filen.rds\"))\n",
    "saveRDS(ref$ids, paste0(outdir, \"/ids.rds\"))\n",
    "saveRDS(re20, paste0(outdir, \"/re.rds\"))\n",
    "saveRDS(tsx, paste0(outdir, \"/tsx.rds\"))\n",
    "saveRDS(re20Utsx, paste0(outdir, \"/reUtsx.rds\"))\n",
    "saveRDS(seeds, paste0(outdir, \"/seeds.rds\"))\n",
    "saveRDS(class_stats, paste0(outdir, \"/class_stats.rds\"))"
   ]
  },
  {
   "cell_type": "code",
   "execution_count": 30,
   "metadata": {
    "collapsed": false
   },
   "outputs": [
    {
     "data": {
      "text/html": [
       "<table>\n",
       "<thead><tr><th scope=col>name</th><th scope=col>id</th><th scope=col>nSmpls</th><th scope=col>nFlds</th></tr></thead>\n",
       "<tbody>\n",
       "\t<tr><td>unlabeled</td><td>0        </td><td>4762912  </td><td>   1     </td></tr>\n",
       "\t<tr><td>corn     </td><td>1        </td><td> 147634  </td><td>1336     </td></tr>\n",
       "\t<tr><td>oilseeds </td><td>2        </td><td>  39816  </td><td> 315     </td></tr>\n",
       "\t<tr><td>pgrass   </td><td>3        </td><td> 469643  </td><td>5685     </td></tr>\n",
       "\t<tr><td>root     </td><td>4        </td><td>   8722  </td><td>  87     </td></tr>\n",
       "\t<tr><td>scereals </td><td>5        </td><td>  48701  </td><td> 535     </td></tr>\n",
       "\t<tr><td>wcereals </td><td>6        </td><td> 201480  </td><td>1934     </td></tr>\n",
       "\t<tr><td>bforest  </td><td>7        </td><td>   7721  </td><td>   1     </td></tr>\n",
       "\t<tr><td>cforest  </td><td>8        </td><td>   7750  </td><td>   1     </td></tr>\n",
       "\t<tr><td>others   </td><td>9        </td><td> 172989  </td><td>2028     </td></tr>\n",
       "</tbody>\n",
       "</table>\n"
      ],
      "text/latex": [
       "\\begin{tabular}{r|llll}\n",
       " name & id & nSmpls & nFlds\\\\\n",
       "\\hline\n",
       "\t unlabeled & 0         & 4762912   &    1     \\\\\n",
       "\t corn      & 1         &  147634   & 1336     \\\\\n",
       "\t oilseeds  & 2         &   39816   &  315     \\\\\n",
       "\t pgrass    & 3         &  469643   & 5685     \\\\\n",
       "\t root      & 4         &    8722   &   87     \\\\\n",
       "\t scereals  & 5         &   48701   &  535     \\\\\n",
       "\t wcereals  & 6         &  201480   & 1934     \\\\\n",
       "\t bforest   & 7         &    7721   &    1     \\\\\n",
       "\t cforest   & 8         &    7750   &    1     \\\\\n",
       "\t others    & 9         &  172989   & 2028     \\\\\n",
       "\\end{tabular}\n"
      ],
      "text/plain": [
       "   name      id nSmpls  nFlds\n",
       "1  unlabeled 0  4762912    1 \n",
       "2  corn      1   147634 1336 \n",
       "3  oilseeds  2    39816  315 \n",
       "4  pgrass    3   469643 5685 \n",
       "5  root      4     8722   87 \n",
       "6  scereals  5    48701  535 \n",
       "7  wcereals  6   201480 1934 \n",
       "8  bforest   7     7721    1 \n",
       "9  cforest   8     7750    1 \n",
       "10 others    9   172989 2028 "
      ]
     },
     "metadata": {},
     "output_type": "display_data"
    }
   ],
   "source": [
    "class_stats # here"
   ]
  }
 ],
 "metadata": {
  "kernelspec": {
   "display_name": "R",
   "language": "R",
   "name": "ir"
  },
  "language_info": {
   "codemirror_mode": "r",
   "file_extension": ".r",
   "mimetype": "text/x-r-source",
   "name": "R",
   "pygments_lexer": "r",
   "version": "3.2.4"
  }
 },
 "nbformat": 4,
 "nbformat_minor": 0
}
