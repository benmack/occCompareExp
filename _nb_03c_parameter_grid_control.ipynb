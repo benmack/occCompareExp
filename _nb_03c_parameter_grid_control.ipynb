{
 "cells": [
  {
   "cell_type": "markdown",
   "metadata": {},
   "source": [
    "# Find tasks with optimum at the grid's limits\n",
    "\n",
    "This notebook might help to find out if the parameter grids are suitable or need to be extended. \n",
    "\n"
   ]
  },
  {
   "cell_type": "code",
   "execution_count": 4,
   "metadata": {
    "collapsed": false,
    "scrolled": false
   },
   "outputs": [
    {
     "name": "stderr",
     "output_type": "stream",
     "text": [
      "Loading occCompare\n",
      "Loading occCompareExp\n"
     ]
    }
   ],
   "source": [
    "devtools::load_all(\"../occCompaRe\")\n",
    "devtools::load_all(\".\")"
   ]
  },
  {
   "cell_type": "code",
   "execution_count": 3,
   "metadata": {
    "collapsed": false
   },
   "outputs": [
    {
     "name": "stdout",
     "output_type": "stream",
     "text": [
      "Loading results from D:/Diss/occcomp/results_rdata_agri6clUforest/sum_revision1b/results.RDS \n"
     ]
    }
   ],
   "source": [
    "parcc <- set_expOpts(\"revision1\", \"b\")\n",
    "res <- load_results(c(\".trainUtest\", \".resampling\"), verbosity=1, overwrite=FALSE)\n"
   ]
  },
  {
   "cell_type": "markdown",
   "metadata": {},
   "source": [
    "## Check if the number of models is as expected"
   ]
  },
  {
   "cell_type": "code",
   "execution_count": 4,
   "metadata": {
    "collapsed": false
   },
   "outputs": [
    {
     "data": {
      "text/html": [
       "<dl>\n",
       "\t<dt>$binsvm</dt>\n",
       "\t\t<dd>15120</dd>\n",
       "\t<dt>$ocsvm</dt>\n",
       "\t\t<dd>18480</dd>\n",
       "\t<dt>$bsvm</dt>\n",
       "\t\t<dd>75600</dd>\n",
       "\t<dt>$maxent</dt>\n",
       "\t\t<dd>3360</dd>\n",
       "\t<dt>$maxentDef</dt>\n",
       "\t\t<dd>240</dd>\n",
       "</dl>\n"
      ],
      "text/latex": [
       "\\begin{description}\n",
       "\\item[\\$binsvm] 15120\n",
       "\\item[\\$ocsvm] 18480\n",
       "\\item[\\$bsvm] 75600\n",
       "\\item[\\$maxent] 3360\n",
       "\\item[\\$maxentDef] 240\n",
       "\\end{description}\n"
      ],
      "text/markdown": [
       "$binsvm\n",
       ":   15120\n",
       "$ocsvm\n",
       ":   18480\n",
       "$bsvm\n",
       ":   75600\n",
       "$maxent\n",
       ":   3360\n",
       "$maxentDef\n",
       ":   240\n",
       "\n",
       "\n"
      ],
      "text/plain": [
       "$binsvm\n",
       "[1] 15120\n",
       "\n",
       "$ocsvm\n",
       "[1] 18480\n",
       "\n",
       "$bsvm\n",
       "[1] 75600\n",
       "\n",
       "$maxent\n",
       "[1] 3360\n",
       "\n",
       "$maxentDef\n",
       "[1] 240\n"
      ]
     },
     "metadata": {},
     "output_type": "display_data"
    }
   ],
   "source": [
    "nmodels = lapply(res, nrow)\n",
    "nmodels"
   ]
  },
  {
   "cell_type": "code",
   "execution_count": 5,
   "metadata": {
    "collapsed": false
   },
   "outputs": [
    {
     "data": {
      "text/html": [
       "TRUE"
      ],
      "text/latex": [
       "TRUE"
      ],
      "text/markdown": [
       "TRUE"
      ],
      "text/plain": [
       "[1] TRUE"
      ]
     },
     "metadata": {},
     "output_type": "display_data"
    },
    {
     "data": {
      "text/html": [
       "TRUE"
      ],
      "text/latex": [
       "TRUE"
      ],
      "text/markdown": [
       "TRUE"
      ],
      "text/plain": [
       "[1] TRUE"
      ]
     },
     "metadata": {},
     "output_type": "display_data"
    },
    {
     "data": {
      "text/html": [
       "TRUE"
      ],
      "text/latex": [
       "TRUE"
      ],
      "text/markdown": [
       "TRUE"
      ],
      "text/plain": [
       "[1] TRUE"
      ]
     },
     "metadata": {},
     "output_type": "display_data"
    },
    {
     "data": {
      "text/html": [
       "TRUE"
      ],
      "text/latex": [
       "TRUE"
      ],
      "text/markdown": [
       "TRUE"
      ],
      "text/plain": [
       "[1] TRUE"
      ]
     },
     "metadata": {},
     "output_type": "display_data"
    }
   ],
   "source": [
    "prod(sapply(parcc$param$binsvm, length))*240 == nmodels$binsvm\n",
    "prod(sapply(parcc$param$ocsvm, length))*240 == nmodels$ocsvm\n",
    "prod(sapply(parcc$param$bsvm, length))*240 == nmodels$bsvm\n",
    "prod(sapply(parcc$param$maxent, length))*240 == nmodels$maxent"
   ]
  },
  {
   "cell_type": "markdown",
   "metadata": {},
   "source": [
    "## Parameters with max. (test) performance "
   ]
  },
  {
   "cell_type": "markdown",
   "metadata": {},
   "source": [
    "Get the best models of each task:"
   ]
  },
  {
   "cell_type": "code",
   "execution_count": 6,
   "metadata": {
    "collapsed": true
   },
   "outputs": [],
   "source": [
    "res_max = lapply(res, function(x) \n",
    "  x %>% slice(which.max(mxK)))"
   ]
  },
  {
   "cell_type": "markdown",
   "metadata": {},
   "source": [
    "### Parameter frequency - sigma"
   ]
  },
  {
   "cell_type": "code",
   "execution_count": 7,
   "metadata": {
    "collapsed": false
   },
   "outputs": [
    {
     "data": {
      "text/html": [
       "<table>\n",
       "<thead><tr><th></th><th scope=col>0.000244140625</th><th scope=col>0.0009765625</th><th scope=col>0.00390625</th><th scope=col>0.015625</th><th scope=col>0.0625</th><th scope=col>0.25</th><th scope=col>1</th></tr></thead>\n",
       "<tbody>\n",
       "\t<tr><th scope=row>binvm</th><td> 8 </td><td>24 </td><td>33 </td><td>62 </td><td> 65</td><td>29 </td><td>19 </td></tr>\n",
       "\t<tr><th scope=row>bsvm</th><td>25 </td><td>20 </td><td>43 </td><td>48 </td><td> 48</td><td>39 </td><td>17 </td></tr>\n",
       "\t<tr><th scope=row>ocsvm</th><td> 2 </td><td> 2 </td><td> 7 </td><td>24 </td><td>111</td><td>85 </td><td> 9 </td></tr>\n",
       "</tbody>\n",
       "</table>\n"
      ],
      "text/latex": [
       "\\begin{tabular}{r|lllllll}\n",
       "  & 0.000244140625 & 0.0009765625 & 0.00390625 & 0.015625 & 0.0625 & 0.25 & 1\\\\\n",
       "\\hline\n",
       "\tbinvm &  8  & 24  & 33  & 62  &  65 & 29  & 19 \\\\\n",
       "\tbsvm & 25  & 20  & 43  & 48  &  48 & 39  & 17 \\\\\n",
       "\tocsvm &  2  &  2  &  7  & 24  & 111 & 85  &  9 \\\\\n",
       "\\end{tabular}\n"
      ],
      "text/markdown": [
       "1. 8\n",
       "2. 25\n",
       "3. 2\n",
       "4. 24\n",
       "5. 20\n",
       "6. 2\n",
       "7. 33\n",
       "8. 43\n",
       "9. 7\n",
       "10. 62\n",
       "11. 48\n",
       "12. 24\n",
       "13. 65\n",
       "14. 48\n",
       "15. 111\n",
       "16. 29\n",
       "17. 39\n",
       "18. 85\n",
       "19. 19\n",
       "20. 17\n",
       "21. 9\n",
       "\n",
       "\n"
      ],
      "text/plain": [
       "      0.000244140625 0.0009765625 0.00390625 0.015625 0.0625 0.25 1 \n",
       "binvm  8             24           33         62        65    29   19\n",
       "bsvm  25             20           43         48        48    39   17\n",
       "ocsvm  2              2            7         24       111    85    9"
      ]
     },
     "metadata": {},
     "output_type": "display_data"
    }
   ],
   "source": [
    "rbind(binvm=table(res_max$binsvm$sigma),\n",
    "      bsvm=table(res_max$bsvm$sigma),\n",
    "      ocsvm=table(res_max$ocsvm$sigma))"
   ]
  },
  {
   "cell_type": "markdown",
   "metadata": {},
   "source": [
    "### Parameter frequency - C"
   ]
  },
  {
   "cell_type": "code",
   "execution_count": 9,
   "metadata": {
    "collapsed": false
   },
   "outputs": [
    {
     "data": {
      "text/html": [
       "<table>\n",
       "<thead><tr><th></th><th scope=col>0.0078125</th><th scope=col>0.03125</th><th scope=col>0.125</th><th scope=col>0.5</th><th scope=col>2</th><th scope=col>8</th><th scope=col>32</th><th scope=col>128</th><th scope=col>512</th></tr></thead>\n",
       "<tbody>\n",
       "\t<tr><th scope=row>binvm</th><td>24</td><td> 4</td><td> 8</td><td>25</td><td>39</td><td>49</td><td>29</td><td>35</td><td>27</td></tr>\n",
       "\t<tr><th scope=row>bsvm</th><td>63</td><td>22</td><td>26</td><td>33</td><td>26</td><td>15</td><td>20</td><td>19</td><td>16</td></tr>\n",
       "</tbody>\n",
       "</table>\n"
      ],
      "text/latex": [
       "\\begin{tabular}{r|lllllllll}\n",
       "  & 0.0078125 & 0.03125 & 0.125 & 0.5 & 2 & 8 & 32 & 128 & 512\\\\\n",
       "\\hline\n",
       "\tbinvm & 24 &  4 &  8 & 25 & 39 & 49 & 29 & 35 & 27\\\\\n",
       "\tbsvm & 63 & 22 & 26 & 33 & 26 & 15 & 20 & 19 & 16\\\\\n",
       "\\end{tabular}\n"
      ],
      "text/markdown": [
       "1. 24\n",
       "2. 63\n",
       "3. 4\n",
       "4. 22\n",
       "5. 8\n",
       "6. 26\n",
       "7. 25\n",
       "8. 33\n",
       "9. 39\n",
       "10. 26\n",
       "11. 49\n",
       "12. 15\n",
       "13. 29\n",
       "14. 20\n",
       "15. 35\n",
       "16. 19\n",
       "17. 27\n",
       "18. 16\n",
       "\n",
       "\n"
      ],
      "text/plain": [
       "      0.0078125 0.03125 0.125 0.5 2  8  32 128 512\n",
       "binvm 24         4       8    25  39 49 29 35  27 \n",
       "bsvm  63        22      26    33  26 15 20 19  16 "
      ]
     },
     "metadata": {},
     "output_type": "display_data"
    }
   ],
   "source": [
    "rbind(binvm=table(res_max$binsvm$C),\n",
    "      bsvm=table(res_max$bsvm$cNeg))"
   ]
  },
  {
   "cell_type": "markdown",
   "metadata": {},
   "source": [
    "### Parameter frequency - nu"
   ]
  },
  {
   "cell_type": "code",
   "execution_count": 10,
   "metadata": {
    "collapsed": false
   },
   "outputs": [
    {
     "data": {
      "text/html": [
       "<table>\n",
       "<thead><tr><th></th><th scope=col>0.01</th><th scope=col>0.05</th><th scope=col>0.1</th><th scope=col>0.2</th><th scope=col>0.3</th><th scope=col>0.4</th><th scope=col>0.5</th><th scope=col>0.6</th><th scope=col>0.7</th><th scope=col>0.8</th><th scope=col>0.9</th></tr></thead>\n",
       "<tbody>\n",
       "\t<tr><th scope=row>binvm</th><td>61</td><td>17</td><td>8 </td><td>16</td><td>10</td><td>26</td><td>11</td><td>19</td><td>12</td><td>23</td><td>37</td></tr>\n",
       "</tbody>\n",
       "</table>\n"
      ],
      "text/latex": [
       "\\begin{tabular}{r|lllllllllll}\n",
       "  & 0.01 & 0.05 & 0.1 & 0.2 & 0.3 & 0.4 & 0.5 & 0.6 & 0.7 & 0.8 & 0.9\\\\\n",
       "\\hline\n",
       "\tbinvm & 61 & 17 & 8  & 16 & 10 & 26 & 11 & 19 & 12 & 23 & 37\\\\\n",
       "\\end{tabular}\n"
      ],
      "text/markdown": [
       "1. 61\n",
       "2. 17\n",
       "3. 8\n",
       "4. 16\n",
       "5. 10\n",
       "6. 26\n",
       "7. 11\n",
       "8. 19\n",
       "9. 12\n",
       "10. 23\n",
       "11. 37\n",
       "\n",
       "\n"
      ],
      "text/plain": [
       "      0.01 0.05 0.1 0.2 0.3 0.4 0.5 0.6 0.7 0.8 0.9\n",
       "binvm 61   17   8   16  10  26  11  19  12  23  37 "
      ]
     },
     "metadata": {},
     "output_type": "display_data"
    }
   ],
   "source": [
    "rbind(binvm=table(res_max$ocsvm$nu))"
   ]
  },
  {
   "cell_type": "markdown",
   "metadata": {},
   "source": [
    "### Parameter frequency - beta"
   ]
  },
  {
   "cell_type": "code",
   "execution_count": 11,
   "metadata": {
    "collapsed": false
   },
   "outputs": [
    {
     "data": {
      "text/html": [
       "<table>\n",
       "<thead><tr><th></th><th scope=col>0.015625</th><th scope=col>0.0625</th><th scope=col>0.25</th><th scope=col>1</th><th scope=col>4</th><th scope=col>16</th><th scope=col>64</th></tr></thead>\n",
       "<tbody>\n",
       "\t<tr><th scope=row>binvm</th><td>11 </td><td>14 </td><td>33 </td><td>111</td><td>48 </td><td>22 </td><td>1  </td></tr>\n",
       "</tbody>\n",
       "</table>\n"
      ],
      "text/latex": [
       "\\begin{tabular}{r|lllllll}\n",
       "  & 0.015625 & 0.0625 & 0.25 & 1 & 4 & 16 & 64\\\\\n",
       "\\hline\n",
       "\tbinvm & 11  & 14  & 33  & 111 & 48  & 22  & 1  \\\\\n",
       "\\end{tabular}\n"
      ],
      "text/markdown": [
       "1. 11\n",
       "2. 14\n",
       "3. 33\n",
       "4. 111\n",
       "5. 48\n",
       "6. 22\n",
       "7. 1\n",
       "\n",
       "\n"
      ],
      "text/plain": [
       "      0.015625 0.0625 0.25 1   4  16 64\n",
       "binvm 11       14     33   111 48 22 1 "
      ]
     },
     "metadata": {},
     "output_type": "display_data"
    }
   ],
   "source": [
    "rbind(binvm=table(res_max$maxent$beta))"
   ]
  },
  {
   "cell_type": "markdown",
   "metadata": {},
   "source": [
    "## Parameters with max. (test) performance - at grid border only\n",
    "\n",
    "### Count the occurences over all tasks"
   ]
  },
  {
   "cell_type": "code",
   "execution_count": 29,
   "metadata": {
    "collapsed": false
   },
   "outputs": [
    {
     "data": {
      "text/html": [
       "<ol class=list-inline>\n",
       "\t<li>'binsvm'</li>\n",
       "\t<li>'ocsvm'</li>\n",
       "\t<li>'bsvm'</li>\n",
       "\t<li>'maxent'</li>\n",
       "</ol>\n"
      ],
      "text/latex": [
       "\\begin{enumerate*}\n",
       "\\item 'binsvm'\n",
       "\\item 'ocsvm'\n",
       "\\item 'bsvm'\n",
       "\\item 'maxent'\n",
       "\\end{enumerate*}\n"
      ],
      "text/markdown": [
       "1. 'binsvm'\n",
       "2. 'ocsvm'\n",
       "3. 'bsvm'\n",
       "4. 'maxent'\n",
       "\n",
       "\n"
      ],
      "text/plain": [
       "[1] \"binsvm\" \"ocsvm\"  \"bsvm\"   \"maxent\""
      ]
     },
     "metadata": {},
     "output_type": "display_data"
    }
   ],
   "source": [
    "cls"
   ]
  },
  {
   "cell_type": "code",
   "execution_count": 33,
   "metadata": {
    "collapsed": false
   },
   "outputs": [
    {
     "name": "stdout",
     "output_type": "stream",
     "text": [
      "fc  (factor) added to ignore.\n"
     ]
    }
   ],
   "source": [
    "cls <- names(res)[!names(res)==\"maxentDef\"] # for maxentDef it does not make sense - only one model\n",
    "names(cls) = cls # just that a named list is returned below\n",
    "ignore = list(binsvm=NULL,\n",
    "              bsvm=NULL,\n",
    "              ocsvm=list(nu=c(\"upper\", \"lower\")),\n",
    "              maxent=list(fc=c(\"upper\", \"lower\")))\n",
    "param_at_limit <- lapply(cls, function(nm) check_parameter_grids(method=nm, res=res, ignore=ignore[[nm]]))"
   ]
  },
  {
   "cell_type": "code",
   "execution_count": 34,
   "metadata": {
    "collapsed": false,
    "scrolled": true
   },
   "outputs": [
    {
     "data": {
      "text/html": [
       "<dl>\n",
       "\t<dt>$binsvm</dt>\n",
       "\t\t<dd>104</dd>\n",
       "\t<dt>$ocsvm</dt>\n",
       "\t\t<dd>12</dd>\n",
       "\t<dt>$bsvm</dt>\n",
       "\t\t<dd>151</dd>\n",
       "\t<dt>$maxent</dt>\n",
       "\t\t<dd>16</dd>\n",
       "</dl>\n"
      ],
      "text/latex": [
       "\\begin{description}\n",
       "\\item[\\$binsvm] 104\n",
       "\\item[\\$ocsvm] 12\n",
       "\\item[\\$bsvm] 151\n",
       "\\item[\\$maxent] 16\n",
       "\\end{description}\n"
      ],
      "text/markdown": [
       "$binsvm\n",
       ":   104\n",
       "$ocsvm\n",
       ":   12\n",
       "$bsvm\n",
       ":   151\n",
       "$maxent\n",
       ":   16\n",
       "\n",
       "\n"
      ],
      "text/plain": [
       "$binsvm\n",
       "[1] 104\n",
       "\n",
       "$ocsvm\n",
       "[1] 12\n",
       "\n",
       "$bsvm\n",
       "[1] 151\n",
       "\n",
       "$maxent\n",
       "[1] 16\n"
      ]
     },
     "metadata": {},
     "output_type": "display_data"
    }
   ],
   "source": [
    "n_border_cases <- lapply(param_at_limit, function(x) sum(apply(!is.na(x), 1, any)))\n",
    "n_border_cases"
   ]
  },
  {
   "cell_type": "markdown",
   "metadata": {},
   "source": [
    "### Visualize the grids \n",
    "\n",
    "#### OCSVM as an example also works for the others"
   ]
  },
  {
   "cell_type": "code",
   "execution_count": 7,
   "metadata": {
    "collapsed": false
   },
   "outputs": [
    {
     "data": {
      "image/png": "[encoded data removed]",
      "text/plain": [
       "plot without title"
      ]
     },
     "metadata": {
      "image/svg+xml": {
       "isolated": true
      }
     },
     "output_type": "display_data"
    },
    {
     "data": {
      "image/png": "[encoded data removed]",
      "text/plain": [
       "plot without title"
      ]
     },
     "metadata": {
      "image/svg+xml": {
       "isolated": true
      }
     },
     "output_type": "display_data"
    },
    {
     "data": {
      "image/png": "[encoded data removed]",
      "text/plain": [
       "plot without title"
      ]
     },
     "metadata": {
      "image/svg+xml": {
       "isolated": true
      }
     },
     "output_type": "display_data"
    },
    {
     "data": {
      "image/png": "[encoded data removed]",
      "text/plain": [
       "plot without title"
      ]
     },
     "metadata": {
      "image/svg+xml": {
       "isolated": true
      }
     },
     "output_type": "display_data"
    },
    {
     "data": {
      "image/png": "[encoded data removed]",
      "text/plain": [
       "plot without title"
      ]
     },
     "metadata": {
      "image/svg+xml": {
       "isolated": true
      }
     },
     "output_type": "display_data"
    },
    {
     "data": {
      "image/png": "[encoded data removed]",
      "text/plain": [
       "plot without title"
      ]
     },
     "metadata": {
      "image/svg+xml": {
       "isolated": true
      }
     },
     "output_type": "display_data"
    },
    {
     "data": {
      "image/png": "[encoded data removed]",
      "text/plain": [
       "plot without title"
      ]
     },
     "metadata": {
      "image/svg+xml": {
       "isolated": true
      }
     },
     "output_type": "display_data"
    },
    {
     "data": {
      "image/png": "[encoded data removed]",
      "text/plain": [
       "plot without title"
      ]
     },
     "metadata": {
      "image/svg+xml": {
       "isolated": true
      }
     },
     "output_type": "display_data"
    },
    {
     "data": {
      "image/png": "[encoded data removed]",
      "text/plain": [
       "plot without title"
      ]
     },
     "metadata": {
      "image/svg+xml": {
       "isolated": true
      }
     },
     "output_type": "display_data"
    },
    {
     "data": {
      "image/png": "[encoded data removed]",
      "text/plain": [
       "plot without title"
      ]
     },
     "metadata": {
      "image/svg+xml": {
       "isolated": true
      }
     },
     "output_type": "display_data"
    },
    {
     "data": {
      "image/png": "[encoded data removed]",
      "text/plain": [
       "plot without title"
      ]
     },
     "metadata": {
      "image/svg+xml": {
       "isolated": true
      }
     },
     "output_type": "display_data"
    },
    {
     "name": "stdout",
     "output_type": "stream",
     "text": [
      "12 of 240 tasks with optimum at the parameter grid border.\n",
      "'facet_grid' formula:  seed+fset+idP ~ ."
     ]
    },
    {
     "data": {
      "image/png": "[encoded data removed]",
      "text/plain": [
       "plot without title"
      ]
     },
     "metadata": {
      "image/svg+xml": {
       "isolated": true
      }
     },
     "output_type": "display_data"
    }
   ],
   "source": [
    "options(repr.plot.width=5, repr.plot.height=3)\n",
    "\n",
    "ggp <- ggp_parameter_grids(method=\"ocsvm\", x=\"nu\", y=\"sigma\", facet_x=NULL, \n",
    "                           res=res, grid_boder_cases_only=TRUE, ignore=list(nu=c(\"lower\", \"upper\")),\n",
    "                           print_single_grids=TRUE, verbose=TRUE)"
   ]
  }
 ],
 "metadata": {
  "kernelspec": {
   "display_name": "R",
   "language": "R",
   "name": "ir"
  },
  "language_info": {
   "codemirror_mode": "r",
   "file_extension": ".r",
   "mimetype": "text/x-r-source",
   "name": "R",
   "pygments_lexer": "r",
   "version": "3.2.4"
  }
 },
 "nbformat": 4,
 "nbformat_minor": 0
}
