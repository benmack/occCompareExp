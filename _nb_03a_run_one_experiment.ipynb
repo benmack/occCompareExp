{
 "cells": [
  {
   "cell_type": "markdown",
   "metadata": {},
   "source": [
    "# See how ``run_experiments`` works based on a single experiment"
   ]
  },
  {
   "cell_type": "code",
   "execution_count": 2,
   "metadata": {
    "collapsed": false,
    "scrolled": false
   },
   "outputs": [
    {
     "name": "stderr",
     "output_type": "stream",
     "text": [
      "Loading occCompare\n",
      "Loading occCompareExp\n"
     ]
    }
   ],
   "source": [
    "devtools::load_all(\"../occCompaRe\")\n",
    "devtools::load_all(\".\")"
   ]
  },
  {
   "cell_type": "markdown",
   "metadata": {},
   "source": [
    "## Setup experiments\n",
    "\n",
    "A proper set up of the experiments is required by defining the classifier comparison settings list (parcc). Furthermore, a function (get_refset()) must be available which creates the reference sets as required by the functions of occCompaRe\n",
    "\n",
    "In doubt how this can be done see .002_setup."
   ]
  },
  {
   "cell_type": "code",
   "execution_count": 3,
   "metadata": {
    "collapsed": false
   },
   "outputs": [],
   "source": [
    "parcc <- set_expOpts(\"ocsvmOnly4revision1\") # there are paths defined as default in there which you might need to adjust\n",
    "#parcc"
   ]
  },
  {
   "cell_type": "markdown",
   "metadata": {},
   "source": [
    "## Variables defined in ``run_experiments``\n"
   ]
  },
  {
   "cell_type": "code",
   "execution_count": 4,
   "metadata": {
    "collapsed": true
   },
   "outputs": [],
   "source": [
    "get_refset <- parcc[[\"get_resfet\"]]\n",
    "args.rs <- parcc[[\"args.rs\"]]"
   ]
  },
  {
   "cell_type": "markdown",
   "metadata": {},
   "source": [
    "## Select one TASK"
   ]
  },
  {
   "cell_type": "code",
   "execution_count": 5,
   "metadata": {
    "collapsed": false
   },
   "outputs": [
    {
     "data": {
      "text/html": [
       "'D:/Repos/github/occcompare/occcompareexp/data/rdata_agri6clUforest'"
      ],
      "text/latex": [
       "'D:/Repos/github/occcompare/occcompareexp/data/rdata\\_agri6clUforest'"
      ],
      "text/markdown": [
       "'D:/Repos/github/occcompare/occcompareexp/data/rdata_agri6clUforest'"
      ],
      "text/plain": [
       "[1] \"D:/Repos/github/occcompare/occcompareexp/data/rdata_agri6clUforest\""
      ]
     },
     "metadata": {},
     "output_type": "display_data"
    }
   ],
   "source": [
    "args.rs$dirData"
   ]
  },
  {
   "cell_type": "markdown",
   "metadata": {},
   "source": [
    "#### Arguments"
   ]
  },
  {
   "cell_type": "code",
   "execution_count": 6,
   "metadata": {
    "collapsed": false
   },
   "outputs": [],
   "source": [
    "fun = c(\".trainUtest\")\n",
    "doPar=TRUE\n",
    "# nCores=NULL, # used from parcc$nCores \n",
    "debug=FALSE\n",
    "overwrite=FALSE\n",
    "overwrite_resTable=FALSE\n",
    "loadOnly=FALSE"
   ]
  },
  {
   "cell_type": "code",
   "execution_count": 7,
   "metadata": {
    "collapsed": true
   },
   "outputs": [],
   "source": [
    "loopElements <- c(\"seed\", \"nP\", \"nU\", \"fset\", \n",
    "                \"idP\", \"method\")\n",
    "\n",
    "print.fun <- function(loopElements, task, parcc) {\n",
    "atFrom <- function(pm) {\n",
    "  at=which(parcc[[pm]]==task[[pm]])\n",
    "  from=length(parcc[[pm]])\n",
    "  sprintf(\"%s/%s\", at, from) }\n",
    "cat(paste(paste(loopElements, \n",
    "                sapply(loopElements, atFrom), \n",
    "                sep=\":\", collapse=\" | \"), \"\\n\"))\n",
    "}"
   ]
  },
  {
   "cell_type": "code",
   "execution_count": 8,
   "metadata": {
    "collapsed": false
   },
   "outputs": [],
   "source": [
    "task <- parcc\n",
    "task$seed=parcc$seed[1] # LOOP\n",
    "task$nP=parcc$nP[1]     # LOOP\n",
    "task$nU=parcc$nU[1]     # LOOP\n",
    "task$fset=parcc$fset[1] # LOOP\n",
    "\n",
    "rs_allTr <- get_refset(seed=task$seed,\n",
    "                       fset=task$fset,\n",
    "                       nP=task$nP, nU=task$nU,\n",
    "                       args.rs)\n",
    "\n",
    "task$idP <- parcc$idP[1]         # LOOP \n",
    "\n",
    "task$scaling <- parcc$scaling[1] # LOOP\n",
    "\n",
    "# remove the training samples of the non-idP classes \n",
    "rs <- rs_allTr[rs_allTr$set==\"te\" | rs_allTr$y %in% c(0, task$idP), ]\n",
    "\n",
    "# class-specific scaling using preProcess\n",
    "if (task$scaling == \"ccs01\") {\n",
    "idx_scale <- rs$set==\"tr\" & rs$y==task$idP\n",
    "pp <- preProcess(rs[idx_scale, -(1:2)], method=\"range\")\n",
    "# This is a fast solution...\n",
    "if (\"binsvm\" %in% parcc$method) {\n",
    "  rs_sup <- predict(pp, rs_allTr[rs_allTr$y!=0, ])\n",
    "  # print(check_refset(rs_sup))\n",
    "  rs_sup$y <- puFactor(rs_sup$y==task$idP, TRUE)\n",
    "}\n",
    "rs[, -(1:2)] <- predict(pp, rs[, -(1:2)])\n",
    "} else {\n",
    "stop(\"Currently only ccs01 scaling is supported.\")\n",
    "}\n",
    "\n",
    "idx4sigest <- c(which(rs$set==\"tr\" & rs$y==task$idP))\n",
    "\n",
    "rs$y <- puFactor(rs$y==task$idP, TRUE)"
   ]
  },
  {
   "cell_type": "code",
   "execution_count": 9,
   "metadata": {
    "collapsed": false
   },
   "outputs": [
    {
     "name": "stdout",
     "output_type": "stream",
     "text": [
      "\n",
      "\n",
      "*********************************\n",
      "seed:1/10 | nP:1/1 | nU:1/1 | fset:1/3 | idP:1/8 | method:1/1 \n"
     ]
    }
   ],
   "source": [
    "task$method = parcc$method[1]  # LOOP\n",
    "\n",
    "cat(\"\\n\\n*********************************\\n\")\n",
    "print.fun(loopElements, task, parcc)\n",
    "tuneGrid.bak <- \n",
    "  get_tuneGrid(rs[idx4sigest, -c(1,2)],\n",
    "               method=task$method,\n",
    "               param=task$param[[task$method]],\n",
    "               seed=task$seed)"
   ]
  },
  {
   "cell_type": "code",
   "execution_count": 12,
   "metadata": {
    "collapsed": false,
    "scrolled": true
   },
   "outputs": [
    {
     "name": "stdout",
     "output_type": "stream",
     "text": [
      "------------------------------------\n",
      "PREV. removing PU - samples. Now not anymore!\n",
      ".trainUtest : seed1_fsetre3b_nP50_nU10000_idP1_methodocsvm.trainUtest.csv \n",
      "Number of models - all/to do: 35  /  0 \n",
      "------------------------------------\n",
      "PREV. removing PU - samples. Now not anymore!\n",
      ".resampling : seed1_fsetre3b_nP50_nU10000_idP1_methodocsvm.resampling_val.csv \n",
      "Number of models - all/to do: 35  /  35 \n",
      "From 100% (n=35) done [%]: 0.10.20.30.40.50.60.70.80.90.100.\n"
     ]
    }
   ],
   "source": [
    "for (ff in c(\".trainUtest\", \".resampling-val\")) {\n",
    "    cat(\"------------------------------------\\n\")\n",
    "    if(ff!=\".trainUtest\" & task$method%in%c(\"binsvm\")) {\n",
    "      next\n",
    "      cat(paste0(\"Skipping \", ff, \" for method \", task$method, \".\\n\"))\n",
    "    }\n",
    "    idx_rs <- !logical(nrow(rs))\n",
    "    stsp <- strsplit(ff, \"-\")[[1]]\n",
    "    ff <- stsp[1]\n",
    "    if (length(stsp)==1) { # => .trainUtest\n",
    "      # idx_rs[rm_ifNotPuResampl] <- F\n",
    "      cat(\"PREV. removing PU - samples. Now not anymore!\\n\")\n",
    "    } else {\n",
    "      task$resampling <- stsp[2]\n",
    "      stsp.r <- strsplit(task$resampling, \"_\")[[1]]\n",
    "      if (length(stsp.r)==1) { # => normal resampling\n",
    "        #idx_rs[rm_ifNotPuResampl] <- F\n",
    "        cat(\"PREV. removing PU - samples. Now not anymore!\\n\")\n",
    "      }\n",
    "    }\n",
    "    summaryFile <- get_summaryFile(task$dn.res, task, ff)\n",
    "    if (overwrite_resTable)\n",
    "      unlink(summaryFile)\n",
    "    if (file.exists(summaryFile) & !overwrite & !loadOnly) {\n",
    "      tasks_done <- try(read.csv(summaryFile, header=TRUE))  # was header=F!\n",
    "      # colnames(tasks_done)[1:length(task$param[[task$method]])] <- \n",
    "      #   names(task$param[[task$method]])\n",
    "      idx = matchDf(tuneGrid.bak, tasks_done)\n",
    "      if (!all(is.na(idx))) {\n",
    "        tuneGrid <- \n",
    "          tuneGrid.bak[-as.numeric(rownames(\n",
    "            tuneGrid.bak[!is.na(idx), ])), ]\n",
    "      } else {\n",
    "        tuneGrid <- tuneGrid.bak\n",
    "      }\n",
    "    } else {\n",
    "      tuneGrid <- tuneGrid.bak\n",
    "    }\n",
    "    cat(ff, \":\", basename(summaryFile), \"\\n\")\n",
    "    cat(\"Number of models - all/to do:\", \n",
    "        nrow(tuneGrid.bak), \" / \", nrow(tuneGrid), \"\\n\")\n",
    "    if (nrow(tuneGrid)>0) {\n",
    "      if (substr(task$method, 1, 3) == \"bin\") {\n",
    "        rs_run_exp <- rs_sup \n",
    "      } else { \n",
    "        rs_run_exp <- rs[idx_rs, ]\n",
    "      }\n",
    "      re <- \n",
    "        run_exp(rs_run_exp,\n",
    "                looppar=task,\n",
    "                tuneGrid=tuneGrid,\n",
    "                fun=ff, \n",
    "                doPar=doPar, \n",
    "                loadOnly=loadOnly,\n",
    "                overwrite=overwrite,\n",
    "                rm_ifNotPuResampl=rm_ifNotPuResampl)\n",
    "      if (class(re)==\"try-error\")  {\n",
    "        print(\">>>>>> ERROR IN trainUtest!\")\n",
    "      }\n",
    "    }\n",
    "}"
   ]
  }
 ],
 "metadata": {
  "kernelspec": {
   "display_name": "R",
   "language": "R",
   "name": "ir"
  },
  "language_info": {
   "codemirror_mode": "r",
   "file_extension": ".r",
   "mimetype": "text/x-r-source",
   "name": "R",
   "pygments_lexer": "r",
   "version": "3.2.4"
  }
 },
 "nbformat": 4,
 "nbformat_minor": 0
}
